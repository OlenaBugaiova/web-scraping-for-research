{
  "nbformat": 4,
  "nbformat_minor": 0,
  "metadata": {
    "colab": {
      "provenance": []
    },
    "kernelspec": {
      "name": "python3",
      "display_name": "Python 3"
    },
    "language_info": {
      "name": "python"
    }
  },
  "cells": [
    {
      "cell_type": "markdown",
      "source": [
        "# Task\n",
        "\n",
        "Webscrap information about the latest political cases in Sunndal municipality (starting from 2023). Earlier years are not covered here."
      ],
      "metadata": {
        "id": "hqRANaYPbxg7"
      }
    },
    {
      "cell_type": "markdown",
      "source": [
        "# Parameters"
      ],
      "metadata": {
        "id": "nGsjhAxUSnzG"
      }
    },
    {
      "cell_type": "markdown",
      "source": [
        "**We first try to open the political cases from the main webpage.**\n",
        "\n",
        "We can find them by clicking on 'Innsyn politiske saker' on the Politiske saker webpage of the Sunndal kommune. It opens the cases for the current month."
      ],
      "metadata": {
        "id": "GkHHRO7wVUG-"
      }
    },
    {
      "cell_type": "code",
      "source": [
        "SUNNDAL_MUNICIPALITY_POLITICAL_MATTERS = 'https://www.sunndal.kommune.no/toppmeny/politikk-og-demokrati/politiske-saker/'\n",
        "LATEST_POLITICAL_AFFAIRS = 'Innsyn politiske saker'"
      ],
      "metadata": {
        "id": "8NsDQ-swOtYa"
      },
      "execution_count": null,
      "outputs": []
    },
    {
      "cell_type": "markdown",
      "source": [
        "We are interested in Kommunestyret. **If the current month contains 'Kommunestyret'**, we click on it and it opens a specific case. It also shows the directory to the current case in the following form on the top of the page:\n",
        "\n",
        "`Hjem > Kommunestyret > Kommunestyret (05.02.2025)`\n",
        "\n",
        " We click on the 'Kommunestyret' in the directory to open all the cases with Kommunestyret"
      ],
      "metadata": {
        "id": "jeuth_KJXLPe"
      }
    },
    {
      "cell_type": "code",
      "source": [
        "KOMMUNESTYRET_INDICATOR = 'Kommunestyret'\n",
        "REPETATIVE_PATTERN = '/meetings/sunndal'\n",
        "CURRENT_YEAR = 2025"
      ],
      "metadata": {
        "id": "e8EMRKWrXEww"
      },
      "execution_count": null,
      "outputs": []
    },
    {
      "cell_type": "markdown",
      "source": [
        "**If the current month doesn't contain 'Kommunestyret'**, we use this direct url to all the cases with Kommunestyret of the current year - 2025. This url needs to be updated with the new year."
      ],
      "metadata": {
        "id": "RsRcmG47aWh_"
      }
    },
    {
      "cell_type": "code",
      "source": [
        "KOMMUNESTYRET_2025_URL = 'https://opengov.360online.com/Meetings/sunndal/Boards/Details/209078'"
      ],
      "metadata": {
        "id": "JPwuqHdsRMCA"
      },
      "execution_count": null,
      "outputs": []
    },
    {
      "cell_type": "markdown",
      "source": [
        "These are PDF files with the most important information about political cases\n",
        "- 'Komplett innkalling: Kommunestyret' has political cases description\n",
        "- 'Protokoll Kommunestyret' file includes information about decisions\n"
      ],
      "metadata": {
        "id": "RtvgRrU3MbFR"
      }
    },
    {
      "cell_type": "code",
      "source": [
        "POLITICAL_CASES_DESCRIPTION_FILE_INDICATOR = 'Komplett innkalling: Kommunestyret'\n",
        "INFORMATION_ABOUT_DECISIONS_FILE_INDICATOR = 'Protokoll Kommunestyret'"
      ],
      "metadata": {
        "id": "a7ISDKdSMaN8"
      },
      "execution_count": null,
      "outputs": []
    },
    {
      "cell_type": "markdown",
      "source": [
        "# Import Libraries"
      ],
      "metadata": {
        "id": "Ahw7MmmAQg97"
      }
    },
    {
      "cell_type": "code",
      "source": [
        "%%capture\n",
        "pip install PyPDF2"
      ],
      "metadata": {
        "id": "lh3Z36yoVjLr"
      },
      "execution_count": null,
      "outputs": []
    },
    {
      "cell_type": "code",
      "source": [
        "import io\n",
        "import requests\n",
        "from bs4 import BeautifulSoup\n",
        "from google.colab import drive\n",
        "from PyPDF2 import PdfReader\n",
        "from PyPDF2 import PdfMerger"
      ],
      "metadata": {
        "id": "00U2BkhmOiP6"
      },
      "execution_count": null,
      "outputs": []
    },
    {
      "cell_type": "code",
      "source": [
        "drive.mount('drive')"
      ],
      "metadata": {
        "colab": {
          "base_uri": "https://localhost:8080/"
        },
        "id": "q99Q2p7mNzYN",
        "outputId": "b503df5d-4c71-43be-8248-53faecb70fa7"
      },
      "execution_count": null,
      "outputs": [
        {
          "output_type": "stream",
          "name": "stdout",
          "text": [
            "Mounted at drive\n"
          ]
        }
      ]
    },
    {
      "cell_type": "markdown",
      "source": [
        "# Home Page"
      ],
      "metadata": {
        "id": "RPnqsbNEQx97"
      }
    },
    {
      "cell_type": "markdown",
      "source": [
        "In the Norwegian language text, we have to properly encode the Norwegian alphabet"
      ],
      "metadata": {
        "id": "fQBSlzS0pKDT"
      }
    },
    {
      "cell_type": "code",
      "source": [
        "page = requests.get(SUNNDAL_MUNICIPALITY_POLITICAL_MATTERS)\n",
        "page.encoding = page.apparent_encoding\n",
        "home_webpage = BeautifulSoup(page.text, 'html')"
      ],
      "metadata": {
        "id": "qexXM-9FOyA2"
      },
      "execution_count": null,
      "outputs": []
    },
    {
      "cell_type": "code",
      "source": [
        "political_affairs_webpage = ''\n",
        "political_affairs_url = ''\n",
        "for a in home_webpage.find_all('a', href = True):\n",
        "\n",
        "    if a.get_text() == LATEST_POLITICAL_AFFAIRS:\n",
        "        political_affairs_url = a['href']\n",
        "\n",
        "        page = requests.get(political_affairs_url)\n",
        "        page.encoding = page.apparent_encoding\n",
        "        political_affairs_webpage = BeautifulSoup(page.text, 'html')\n",
        "        break"
      ],
      "metadata": {
        "id": "xpVHDwRQw8CG"
      },
      "execution_count": null,
      "outputs": []
    },
    {
      "cell_type": "code",
      "source": [
        "kommunestyret_url = ''\n",
        "\n",
        "for a in political_affairs_webpage.find_all('a', href = True):\n",
        "    if KOMMUNESTYRET_INDICATOR in a.get_text():\n",
        "\n",
        "        url_prefix = political_affairs_url.lower().removesuffix(REPETATIVE_PATTERN)\n",
        "        kommunestyret_case_url = url_prefix + a['href']\n",
        "\n",
        "        page = requests.get(kommunestyret_case_url)\n",
        "        page.encoding = page.apparent_encoding\n",
        "        kommunestyret_case_webpage = BeautifulSoup(page.text, 'html')\n",
        "\n",
        "        for a in kommunestyret_case_webpage.find_all('a', href = True):\n",
        "\n",
        "            if KOMMUNESTYRET_INDICATOR == a.get_text():\n",
        "                kommunestyret_url = url_prefix + a['href']\n",
        "                break\n",
        "        break"
      ],
      "metadata": {
        "id": "ARa2JkK2RL5Q"
      },
      "execution_count": null,
      "outputs": []
    },
    {
      "cell_type": "code",
      "source": [
        "if not kommunestyret_url:\n",
        "  kommunestyret_url = KOMMUNESTYRET_2025_URL\n",
        "\n",
        "kommunestyret_url_per_year = {}\n",
        "kommunestyret_url_per_year[CURRENT_YEAR] = kommunestyret_url\n",
        "\n",
        "for year in range(2023, CURRENT_YEAR):\n",
        "    kommunestyret_url_per_year[year] = kommunestyret_url + '?Year=' + str(year) + '&Month=-1&focus=true'"
      ],
      "metadata": {
        "id": "CLDS7vMFjwLi"
      },
      "execution_count": null,
      "outputs": []
    },
    {
      "cell_type": "code",
      "source": [
        "kommunestyret_url_per_year"
      ],
      "metadata": {
        "colab": {
          "base_uri": "https://localhost:8080/"
        },
        "id": "1AuuKpW-mVU8",
        "outputId": "ac45051a-1f2b-4c0f-c6b3-0add4c0e38d0"
      },
      "execution_count": null,
      "outputs": [
        {
          "output_type": "execute_result",
          "data": {
            "text/plain": [
              "{2025: 'https://opengov.360online.com/Meetings/sunndal/Boards/Details/209078',\n",
              " 2023: 'https://opengov.360online.com/Meetings/sunndal/Boards/Details/209078?Year=2023&Month=-1&focus=true',\n",
              " 2024: 'https://opengov.360online.com/Meetings/sunndal/Boards/Details/209078?Year=2024&Month=-1&focus=true'}"
            ]
          },
          "metadata": {},
          "execution_count": 12
        }
      ]
    },
    {
      "cell_type": "code",
      "source": [
        "kommunestyret_urls = []\n",
        "\n",
        "for year, url in kommunestyret_url_per_year.items():\n",
        "    page = requests.get(url)\n",
        "    page.encoding = page.apparent_encoding\n",
        "    kommunestyret_webpage = BeautifulSoup(page.text, 'html')\n",
        "\n",
        "    for a in kommunestyret_webpage.find_all('a', href = True):\n",
        "            if KOMMUNESTYRET_INDICATOR in a.get_text() and str(year) in a.get_text():\n",
        "\n",
        "                url_prefix = political_affairs_url.lower().removesuffix(REPETATIVE_PATTERN)\n",
        "                kommunestyret_case_url = url_prefix + a['href']\n",
        "                kommunestyret_urls.append(kommunestyret_case_url)"
      ],
      "metadata": {
        "id": "syM40Olpm1U4"
      },
      "execution_count": null,
      "outputs": []
    },
    {
      "cell_type": "code",
      "source": [
        "pdf_files_urls = {}\n",
        "for url in kommunestyret_urls:\n",
        "\n",
        "    page = requests.get(url)\n",
        "    page.encoding = page.apparent_encoding\n",
        "    webpage = BeautifulSoup(page.text, 'html')\n",
        "\n",
        "    komplett_innkalling_pdf_url = ''\n",
        "    protokoll_kommunestyret_pdf_url = ''\n",
        "\n",
        "    for item in webpage.find_all('li'):\n",
        "\n",
        "        if POLITICAL_CASES_DESCRIPTION_FILE_INDICATOR.lower() in item.get_text().lower():\n",
        "\n",
        "            for a in item.find_all('a', href = True):\n",
        "\n",
        "                url_prefix = political_affairs_url.lower().removesuffix(REPETATIVE_PATTERN)\n",
        "                komplett_innkalling_pdf_url = url_prefix + a['href']\n",
        "\n",
        "        if INFORMATION_ABOUT_DECISIONS_FILE_INDICATOR.lower() in item.get_text().lower():\n",
        "\n",
        "            for a in item.find_all('a', href = True):\n",
        "\n",
        "                url_prefix = political_affairs_url.lower().removesuffix(REPETATIVE_PATTERN)\n",
        "                protokoll_kommunestyret_pdf_url = url_prefix + a['href']\n",
        "\n",
        "\n",
        "    pdf_files_urls[url] = [komplett_innkalling_pdf_url, protokoll_kommunestyret_pdf_url]"
      ],
      "metadata": {
        "id": "X0JRWJq3PP6S"
      },
      "execution_count": null,
      "outputs": []
    },
    {
      "cell_type": "code",
      "source": [
        "pdf_files_urls"
      ],
      "metadata": {
        "colab": {
          "base_uri": "https://localhost:8080/"
        },
        "id": "hO0zr_C0VzyR",
        "outputId": "279dbdc8-f93b-44a4-9fc3-b5926879022c"
      },
      "execution_count": null,
      "outputs": [
        {
          "output_type": "execute_result",
          "data": {
            "text/plain": [
              "{'https://opengov.360online.com/Meetings/sunndal/Meetings/Details/346733': ['https://opengov.360online.com/Meetings/sunndal/File/Details/464243.PDF?fileName=Komplett%20innkalling%3A%20Kommunestyret%20(05.02.2025)&fileSize=66805438',\n",
              "  'https://opengov.360online.com/Meetings/sunndal/File/Details/465056.PDF?fileName=Protokoll%20Kommunestyret%2005.02.2025&fileSize=1251824'],\n",
              " 'https://opengov.360online.com/Meetings/sunndal/Meetings/Details/314014': ['https://opengov.360online.com/Meetings/sunndal/File/Details/401503.PDF?fileName=Komplett%20innkalling%3A%20Kommunestyret%20(04.10.2023)&fileSize=101840175',\n",
              "  'https://opengov.360online.com/Meetings/sunndal/File/Details/402095.PDF?fileName=Protokoll%20Kommunestyret%2004.10.2023&fileSize=234976'],\n",
              " 'https://opengov.360online.com/Meetings/sunndal/Meetings/Details/314310': ['https://opengov.360online.com/Meetings/sunndal/File/Details/405462.PDF?fileName=Komplett%20innkalling%3A%20Kommunestyret%20(01.11.2023)&fileSize=347049498',\n",
              "  'https://opengov.360online.com/Meetings/sunndal/File/Details/405893.PDF?fileName=Protokoll%20Kommunestyret%2001.11.2023&fileSize=283424'],\n",
              " 'https://opengov.360online.com/Meetings/sunndal/Meetings/Details/314311': ['https://opengov.360online.com/Meetings/sunndal/File/Details/412738.PDF?fileName=Komplett%20innkalling%3A%20Kommunestyret%20(13.12.2023)&fileSize=634549706',\n",
              "  'https://opengov.360online.com/Meetings/sunndal/File/Details/412772.PDF?fileName=Protokoll%20kommunestyret%2013.12.2023&fileSize=683600'],\n",
              " 'https://opengov.360online.com/Meetings/sunndal/Meetings/Details/321634': ['https://opengov.360online.com/Meetings/sunndal/File/Details/419060.PDF?fileName=Komplett%20innkalling%3A%20Kommunestyret%20(07.02.2024)&fileSize=169364173',\n",
              "  'https://opengov.360online.com/Meetings/sunndal/File/Details/420090.PDF?fileName=Protokoll%20Kommunestyret%2007.02.2024&fileSize=312448'],\n",
              " 'https://opengov.360online.com/Meetings/sunndal/Meetings/Details/321635': ['https://opengov.360online.com/Meetings/sunndal/File/Details/424935.PDF?fileName=Komplett%20innkalling%3A%20Kommunestyret%20(13.03.2024)&fileSize=56100714',\n",
              "  'https://opengov.360online.com/Meetings/sunndal/File/Details/425720.PDF?fileName=Protokoll%20Kommunestyret%2013.03.2024&fileSize=212096'],\n",
              " 'https://opengov.360online.com/Meetings/sunndal/Meetings/Details/321636': ['https://opengov.360online.com/Meetings/sunndal/File/Details/430353.PDF?fileName=Komplett%20innkalling%3A%20Kommunestyret%20(24.04.2024)&fileSize=36359765',\n",
              "  'https://opengov.360online.com/Meetings/sunndal/File/Details/431270.PDF?fileName=Protokoll%20Kommunestyret%2024.04.2024&fileSize=185888'],\n",
              " 'https://opengov.360online.com/Meetings/sunndal/Meetings/Details/321637': ['https://opengov.360online.com/Meetings/sunndal/File/Details/438265.PDF?fileName=Komplett%20innkalling%3A%20Kommunestyret%20(12.06.2024)&fileSize=101048396',\n",
              "  'https://opengov.360online.com/Meetings/sunndal/File/Details/438448.PDF?fileName=Protokoll%20Kommunestyret%2012.06.2024&fileSize=695200'],\n",
              " 'https://opengov.360online.com/Meetings/sunndal/Meetings/Details/321638': ['https://opengov.360online.com/Meetings/sunndal/File/Details/449030.PDF?fileName=Komplett%20innkalling%3A%20Kommunestyret%20(11.09.2024)&fileSize=56350875',\n",
              "  'https://opengov.360online.com/Meetings/sunndal/File/Details/449032.PDF?fileName=Protokoll%20Kommunestyret%2011.09.2024&fileSize=187904'],\n",
              " 'https://opengov.360online.com/Meetings/sunndal/Meetings/Details/321639': ['https://opengov.360online.com/Meetings/sunndal/File/Details/453798.PDF?fileName=Komplett%20innkalling%3A%20Kommunestyret%20(30.10.2024)&fileSize=28004382',\n",
              "  'https://opengov.360online.com/Meetings/sunndal/File/Details/454479.PDF?fileName=Protokoll%20Kommunestyret%2030.10.2024&fileSize=1219344'],\n",
              " 'https://opengov.360online.com/Meetings/sunndal/Meetings/Details/321640': ['https://opengov.360online.com/Meetings/sunndal/File/Details/458871.PDF?fileName=Komplett%20innkalling%3A%20Kommunestyret%20(11.12.2024)&fileSize=58632827',\n",
              "  'https://opengov.360online.com/Meetings/sunndal/File/Details/459339.PDF?fileName=Protokoll%20kommunestyret%2011.12.2024&fileSize=586208']}"
            ]
          },
          "metadata": {},
          "execution_count": 15
        }
      ]
    },
    {
      "cell_type": "code",
      "source": [
        "headers = {\n",
        "    'User-Agent': 'Mozilla/5.0 (X11; Windows; Windows x86_64) AppleWebKit/537.36 (KHTML, like Gecko) Chrome/103.0.5060.114 Safari/537.36'\n",
        "    }\n",
        "\n",
        "for url, files_urls in pdf_files_urls.items():\n",
        "    file_name = url.split('/')[-1]\n",
        "    print(file_name)\n",
        "\n",
        "    merger = PdfMerger()\n",
        "\n",
        "    for file_url in files_urls:\n",
        "\n",
        "        print(file_url)\n",
        "        response = requests.get(url = file_url, headers = headers, timeout = 120)\n",
        "        on_fly_obj = io.BytesIO(response.content)\n",
        "\n",
        "        try:\n",
        "            pdf_file = PdfReader(on_fly_obj)\n",
        "            merger.append(pdf_file)\n",
        "        except:\n",
        "            print('An exception occurred when reading file from ' + file_url)\n",
        "\n",
        "    try:\n",
        "        merger.write('result_' + file_name + '.pdf')\n",
        "    except:\n",
        "        print('An exception occurred when writing file ' + file_name)\n",
        "\n",
        "    merger.close()"
      ],
      "metadata": {
        "colab": {
          "base_uri": "https://localhost:8080/"
        },
        "id": "OPu_y95SV48T",
        "outputId": "ba32395d-1645-4cb7-f29f-065f2ecc298a"
      },
      "execution_count": null,
      "outputs": [
        {
          "output_type": "stream",
          "name": "stdout",
          "text": [
            "346733\n",
            "https://opengov.360online.com/Meetings/sunndal/File/Details/464243.PDF?fileName=Komplett%20innkalling%3A%20Kommunestyret%20(05.02.2025)&fileSize=66805438\n",
            "https://opengov.360online.com/Meetings/sunndal/File/Details/465056.PDF?fileName=Protokoll%20Kommunestyret%2005.02.2025&fileSize=1251824\n",
            "314014\n",
            "https://opengov.360online.com/Meetings/sunndal/File/Details/401503.PDF?fileName=Komplett%20innkalling%3A%20Kommunestyret%20(04.10.2023)&fileSize=101840175\n",
            "https://opengov.360online.com/Meetings/sunndal/File/Details/402095.PDF?fileName=Protokoll%20Kommunestyret%2004.10.2023&fileSize=234976\n",
            "314310\n",
            "https://opengov.360online.com/Meetings/sunndal/File/Details/405462.PDF?fileName=Komplett%20innkalling%3A%20Kommunestyret%20(01.11.2023)&fileSize=347049498\n",
            "An exception occurred when reading file from https://opengov.360online.com/Meetings/sunndal/File/Details/405462.PDF?fileName=Komplett%20innkalling%3A%20Kommunestyret%20(01.11.2023)&fileSize=347049498\n",
            "https://opengov.360online.com/Meetings/sunndal/File/Details/405893.PDF?fileName=Protokoll%20Kommunestyret%2001.11.2023&fileSize=283424\n",
            "314311\n",
            "https://opengov.360online.com/Meetings/sunndal/File/Details/412738.PDF?fileName=Komplett%20innkalling%3A%20Kommunestyret%20(13.12.2023)&fileSize=634549706\n",
            "An exception occurred when reading file from https://opengov.360online.com/Meetings/sunndal/File/Details/412738.PDF?fileName=Komplett%20innkalling%3A%20Kommunestyret%20(13.12.2023)&fileSize=634549706\n",
            "https://opengov.360online.com/Meetings/sunndal/File/Details/412772.PDF?fileName=Protokoll%20kommunestyret%2013.12.2023&fileSize=683600\n",
            "321634\n",
            "https://opengov.360online.com/Meetings/sunndal/File/Details/419060.PDF?fileName=Komplett%20innkalling%3A%20Kommunestyret%20(07.02.2024)&fileSize=169364173\n",
            "https://opengov.360online.com/Meetings/sunndal/File/Details/420090.PDF?fileName=Protokoll%20Kommunestyret%2007.02.2024&fileSize=312448\n",
            "321635\n",
            "https://opengov.360online.com/Meetings/sunndal/File/Details/424935.PDF?fileName=Komplett%20innkalling%3A%20Kommunestyret%20(13.03.2024)&fileSize=56100714\n",
            "https://opengov.360online.com/Meetings/sunndal/File/Details/425720.PDF?fileName=Protokoll%20Kommunestyret%2013.03.2024&fileSize=212096\n",
            "321636\n",
            "https://opengov.360online.com/Meetings/sunndal/File/Details/430353.PDF?fileName=Komplett%20innkalling%3A%20Kommunestyret%20(24.04.2024)&fileSize=36359765\n",
            "https://opengov.360online.com/Meetings/sunndal/File/Details/431270.PDF?fileName=Protokoll%20Kommunestyret%2024.04.2024&fileSize=185888\n"
          ]
        },
        {
          "output_type": "stream",
          "name": "stderr",
          "text": [
            "WARNING:PyPDF2._reader:Object 4277 0 not defined.\n"
          ]
        },
        {
          "output_type": "stream",
          "name": "stdout",
          "text": [
            "An exception occurred when writing file 321636\n",
            "321637\n",
            "https://opengov.360online.com/Meetings/sunndal/File/Details/438265.PDF?fileName=Komplett%20innkalling%3A%20Kommunestyret%20(12.06.2024)&fileSize=101048396\n",
            "https://opengov.360online.com/Meetings/sunndal/File/Details/438448.PDF?fileName=Protokoll%20Kommunestyret%2012.06.2024&fileSize=695200\n",
            "321638\n",
            "https://opengov.360online.com/Meetings/sunndal/File/Details/449030.PDF?fileName=Komplett%20innkalling%3A%20Kommunestyret%20(11.09.2024)&fileSize=56350875\n",
            "https://opengov.360online.com/Meetings/sunndal/File/Details/449032.PDF?fileName=Protokoll%20Kommunestyret%2011.09.2024&fileSize=187904\n",
            "321639\n",
            "https://opengov.360online.com/Meetings/sunndal/File/Details/453798.PDF?fileName=Komplett%20innkalling%3A%20Kommunestyret%20(30.10.2024)&fileSize=28004382\n",
            "https://opengov.360online.com/Meetings/sunndal/File/Details/454479.PDF?fileName=Protokoll%20Kommunestyret%2030.10.2024&fileSize=1219344\n",
            "321640\n",
            "https://opengov.360online.com/Meetings/sunndal/File/Details/458871.PDF?fileName=Komplett%20innkalling%3A%20Kommunestyret%20(11.12.2024)&fileSize=58632827\n",
            "https://opengov.360online.com/Meetings/sunndal/File/Details/459339.PDF?fileName=Protokoll%20kommunestyret%2011.12.2024&fileSize=586208\n"
          ]
        }
      ]
    }
  ]
}