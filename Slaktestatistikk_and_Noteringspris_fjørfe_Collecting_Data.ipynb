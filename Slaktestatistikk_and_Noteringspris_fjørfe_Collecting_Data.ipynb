{
  "nbformat": 4,
  "nbformat_minor": 0,
  "metadata": {
    "colab": {
      "provenance": []
    },
    "kernelspec": {
      "name": "python3",
      "display_name": "Python 3"
    },
    "language_info": {
      "name": "python"
    }
  },
  "cells": [
    {
      "cell_type": "markdown",
      "source": [
        "# Parameters"
      ],
      "metadata": {
        "id": "nGsjhAxUSnzG"
      }
    },
    {
      "cell_type": "code",
      "source": [
        "SLAKTESTATISTIKK_URL = 'https://animalia.no/no/ravare-og-foredling/klassifisering/klassifisering-av-storfe/'\n",
        "ANIMALIA_URL = 'https://animalia.no/'\n",
        "\n",
        "EXCEL_LINK_INDICATOR = '.xlsx'\n",
        "\n",
        "# data to save\n",
        "KATEGORI = ['Ung okse']\n",
        "AAR = ['2024']"
      ],
      "metadata": {
        "id": "8NsDQ-swOtYa"
      },
      "execution_count": null,
      "outputs": []
    },
    {
      "cell_type": "code",
      "source": [
        "NOTERINGSPRIS_FJØRFE_URL = 'https://www.landbruksdirektoratet.no/nb/industri-og-handel/marked-og-pris/priser-og-prisuttak/noteringspris-fjorfe'\n",
        "\n",
        "NOTERINGSPRIS_FJØRFE_FILE_LINK_NAME = 'Tallgrunnlag for graf'\n",
        "NOTERINGSPRIS_COLUMN_NAME = 'noteringspriser_fjorfe'"
      ],
      "metadata": {
        "id": "TvkB05TxUZg_"
      },
      "execution_count": null,
      "outputs": []
    },
    {
      "cell_type": "markdown",
      "source": [
        "# Import Libraries"
      ],
      "metadata": {
        "id": "Ahw7MmmAQg97"
      }
    },
    {
      "cell_type": "code",
      "source": [
        "from bs4 import BeautifulSoup\n",
        "import requests\n",
        "import csv\n",
        "import json\n",
        "import copy\n",
        "import pandas as pd\n",
        "\n",
        "from google.colab import files\n",
        "import re\n",
        "import numpy as np\n",
        "from google.colab import drive\n",
        "import os"
      ],
      "metadata": {
        "id": "00U2BkhmOiP6"
      },
      "execution_count": null,
      "outputs": []
    },
    {
      "cell_type": "code",
      "source": [
        "drive.mount('drive')"
      ],
      "metadata": {
        "colab": {
          "base_uri": "https://localhost:8080/"
        },
        "id": "q99Q2p7mNzYN",
        "outputId": "bfbeca90-c3f2-495b-c1a9-90dbde337b31"
      },
      "execution_count": null,
      "outputs": [
        {
          "output_type": "stream",
          "name": "stdout",
          "text": [
            "Mounted at drive\n"
          ]
        }
      ]
    },
    {
      "cell_type": "markdown",
      "source": [
        "# Slaktestatistikk Task\n",
        "\n",
        "Web scrape slaktedata from Slaktestatistikk\n",
        "\n",
        "\n",
        "\n",
        "\n"
      ],
      "metadata": {
        "id": "MRrCAlA_eWkf"
      }
    },
    {
      "cell_type": "markdown",
      "source": [
        "# Home Page"
      ],
      "metadata": {
        "id": "RPnqsbNEQx97"
      }
    },
    {
      "cell_type": "markdown",
      "source": [
        "In the Norwegian language text, we have to properly encode the Norwegian alphabet"
      ],
      "metadata": {
        "id": "fQBSlzS0pKDT"
      }
    },
    {
      "cell_type": "code",
      "source": [
        "page = requests.get(SLAKTESTATISTIKK_URL)\n",
        "page.encoding = page.apparent_encoding\n",
        "home_webpage = BeautifulSoup(page.text, 'html')"
      ],
      "metadata": {
        "id": "qexXM-9FOyA2"
      },
      "execution_count": null,
      "outputs": []
    },
    {
      "cell_type": "markdown",
      "source": [
        "# Retrieve Art"
      ],
      "metadata": {
        "id": "X7WCmX2fnNgG"
      }
    },
    {
      "cell_type": "code",
      "source": [
        "title = home_webpage.find('title')\n",
        "\n",
        "print(title) # Prints the tag\n",
        "print(title.string) # Prints the tag string content"
      ],
      "metadata": {
        "colab": {
          "base_uri": "https://localhost:8080/"
        },
        "id": "bg_GIuSunRT_",
        "outputId": "32452aea-c131-4d3f-91e9-bf09853deb9c"
      },
      "execution_count": null,
      "outputs": [
        {
          "output_type": "stream",
          "name": "stdout",
          "text": [
            "<title>Slaktestatistikk - storfe</title>\n",
            "Slaktestatistikk - storfe\n"
          ]
        }
      ]
    },
    {
      "cell_type": "code",
      "source": [
        "title_text = title.string\n",
        "art = title_text.split(' - ')[1]\n",
        "art"
      ],
      "metadata": {
        "colab": {
          "base_uri": "https://localhost:8080/",
          "height": 35
        },
        "id": "ibxftohwpF1Q",
        "outputId": "76b69003-b39d-43a5-dba8-7f4e6226b793"
      },
      "execution_count": null,
      "outputs": [
        {
          "output_type": "execute_result",
          "data": {
            "text/plain": [
              "'storfe'"
            ],
            "application/vnd.google.colaboratory.intrinsic+json": {
              "type": "string"
            }
          },
          "metadata": {},
          "execution_count": 7
        }
      ]
    },
    {
      "cell_type": "markdown",
      "source": [
        "# Retrieve Art data from excel files"
      ],
      "metadata": {
        "id": "rzHwsU0PrCBi"
      }
    },
    {
      "cell_type": "code",
      "source": [
        "year_pattern = r'.*(20[0-9]{2})'\n",
        "kategori_urls = {}\n",
        "\n",
        "for a in home_webpage.find_all('a', href = True):\n",
        "\n",
        "    if EXCEL_LINK_INDICATOR in a['href']:\n",
        "\n",
        "        kategori_url = ANIMALIA_URL + a['href']\n",
        "        kategori_navn = a.get_text()\n",
        "\n",
        "        # Use the following code to remove all '\\xa0'\n",
        "        kategori_navn_list = kategori_navn.split()\n",
        "        kategori_navn = ' '.join(kategori_navn_list)\n",
        "\n",
        "        if kategori_navn not in kategori_urls:\n",
        "            kategori_urls[kategori_navn] = {}\n",
        "\n",
        "        match = re.match(year_pattern, kategori_url)\n",
        "        if match is not None:\n",
        "\n",
        "            aar = match.group(1)\n",
        "            kategori_urls[kategori_navn][aar] = kategori_url\n",
        "\n",
        "# kategori_urls"
      ],
      "metadata": {
        "id": "xpVHDwRQw8CG"
      },
      "execution_count": null,
      "outputs": []
    },
    {
      "cell_type": "markdown",
      "source": [
        "Print all types of excel files available"
      ],
      "metadata": {
        "id": "onirez67qQUX"
      }
    },
    {
      "cell_type": "code",
      "source": [
        "# for kategori, kategori_df_per_year in kategori_urls.items():\n",
        "#     print(f'kategori: {kategori}')\n",
        "#     for aar, kategori_df in kategori_df_per_year.items():\n",
        "#         print(f'aar: {aar}')\n",
        "\n",
        "#     print()"
      ],
      "metadata": {
        "id": "9GpZY7cCqJaM"
      },
      "execution_count": null,
      "outputs": []
    },
    {
      "cell_type": "markdown",
      "source": [
        "Retrieve excel file from given url"
      ],
      "metadata": {
        "id": "M6fHZljpaSr3"
      }
    },
    {
      "cell_type": "code",
      "source": [
        "kategori_files = {}\n",
        "\n",
        "for kategori, url_per_aar in kategori_urls.items():\n",
        "    kategori_files[kategori] = {}\n",
        "\n",
        "    for year, url in url_per_aar.items():\n",
        "        kategori_file = pd.ExcelFile(url)\n",
        "        kategori_files[kategori][year] = kategori_file"
      ],
      "metadata": {
        "id": "4EAAl1CZo4EJ"
      },
      "execution_count": null,
      "outputs": []
    },
    {
      "cell_type": "markdown",
      "source": [
        "Read specific interesting to us data from excel files and save it into dataframes"
      ],
      "metadata": {
        "id": "fS8sf2zwaYxm"
      }
    },
    {
      "cell_type": "markdown",
      "source": [
        "Ønsker at disse gulfargede kolonnene leses inn til tabellen:\n",
        "\n",
        "Kolonne B år -> til kolonne aar\n",
        "\n",
        "Kolonne C ukenr -> til kolonne uke\n",
        "\n",
        "Kolonne F antall slakt -> til kolonne antall_slakt\n",
        "\n",
        "Kolonne K vekt i kg -> til kolonne vekt_kg\n",
        "\n",
        "Kolonne P klasse -> til kolonne klasse\n",
        "\n",
        "Kolonne U fettgruppe mid -> til kolonne fettgruppe"
      ],
      "metadata": {
        "id": "dONpX00Gaztp"
      }
    },
    {
      "cell_type": "code",
      "source": [
        "required_columns = {'År': 'aar', 'Uke': 'uke', 'Antall slakt': 'antall_slakt', 'Vekt': 'vekt_kg', 'Klasse': 'klasse', 'Fettgruppe Mid': 'fettgruppe'}\n",
        "\n",
        "not_needed_columns_indicators = ['%', '+/-', 'Standardavvikelser', 'Andels', 'Middel', 'Produsenter', 'dager', 'Tilvekst ']"
      ],
      "metadata": {
        "id": "rvrqyMLKauiy"
      },
      "execution_count": null,
      "outputs": []
    },
    {
      "cell_type": "code",
      "source": [
        "kategori_dataframes = {}\n",
        "\n",
        "for kategori, xl_files_per_year in kategori_files.items():\n",
        "\n",
        "    kategori_dataframes[kategori] = {}\n",
        "    for year, xl_file in xl_files_per_year.items():\n",
        "\n",
        "        for skip_rows in range(3, 10):\n",
        "\n",
        "            df = xl_file.parse('Uke', header = [0, 1, 2, 3], skiprows = skip_rows)\n",
        "            if isinstance( df.iloc[0, 1], np.float64 ):\n",
        "\n",
        "                df.columns = [' '.join([word for word in col if 'Unnamed' not in word]) for col in df.columns]\n",
        "                df.columns = [col.replace('- ', '') for col in df.columns]\n",
        "\n",
        "                selected_df_columns = [\n",
        "                    col for col in df.columns if any(\n",
        "                        substring in col for substring in required_columns\n",
        "                        )\n",
        "                    ]\n",
        "                selected_df_columns = [\n",
        "                    col for col in df.columns if not any(\n",
        "                        substring in col for substring in not_needed_columns_indicators\n",
        "                        )\n",
        "                    ]\n",
        "                selected_df_columns = filter(bool, selected_df_columns)\n",
        "                kategori_dataframes[kategori][year] = df[selected_df_columns]\n",
        "\n",
        "                break"
      ],
      "metadata": {
        "id": "caDFaaWynZuT"
      },
      "execution_count": null,
      "outputs": []
    },
    {
      "cell_type": "markdown",
      "source": [
        "Print current columns"
      ],
      "metadata": {
        "id": "dV4U-FGcbB0i"
      }
    },
    {
      "cell_type": "code",
      "source": [
        "for kategori, kategori_df_per_year in kategori_dataframes.items():\n",
        "    for aar, kategori_df in kategori_df_per_year.items():\n",
        "        print()\n",
        "        print(f'kategori: {kategori}, aar: {aar}')\n",
        "        print(*kategori_df.columns, sep = ', ')"
      ],
      "metadata": {
        "colab": {
          "base_uri": "https://localhost:8080/"
        },
        "id": "p287NcXPrcgA",
        "outputId": "9e7ea2a2-add2-41b3-a9a9-5a40e61f4da1"
      },
      "execution_count": null,
      "outputs": [
        {
          "output_type": "stream",
          "name": "stdout",
          "text": [
            "\n",
            "kategori: Alt storfe - overordnet, aar: 2024\n",
            "År, Ukenr, Antall Antall slakt, Antall Vekt, Antall Klasse, Antall Fettgruppe Mid.\n",
            "\n",
            "kategori: Alt storfe - overordnet, aar: 2023\n",
            "År, Ukenr, Antall Antall slakt, Antall Klasse, Antall Fettgruppe Mid., Antall Vekt\n",
            "\n",
            "kategori: Kalv, aar: 2024\n",
            "År, Ukenr, Antall Antall slakt, Antall Vekt Vekt, Antall Klasse, Antall Fettgruppe Mid.\n",
            "\n",
            "kategori: Kalv, aar: 2023\n",
            "År, Ukenr, Antall Antall slakt, Antall Klasse, Antall KlaVekt, Antall Fettgruppe Mid.\n",
            "\n",
            "kategori: Ung okse, aar: 2024\n",
            "År, Ukenr, Antall Antall slakt, Antall Vekt i kg, Antall Klasse, Antall Fettgruppe Mid.\n",
            "\n",
            "kategori: Ung okse, aar: 2023\n",
            "År, Ukenr, Antall Antall slakt, Antall Klasse, Antall Vekt i kg, Antall Fettgruppe Mid.\n",
            "\n",
            "kategori: Okse, aar: 2024\n",
            "År, Ukenr, Antall Antall slakt, Antall Klasse, Antall Fettgruppe Mid., Antall Vekt\n",
            "\n",
            "kategori: Okse, aar: 2023\n",
            "År, Ukenr, Antall Antall slakt, Antall Klasse, Antall Fettgruppe Mid., Antall Vekt\n",
            "\n",
            "kategori: Kastrat, aar: 2024\n",
            "År, Ukenr, Antall Antall slakt, Antall Klasse, Antall Fettgruppe Mid., Antall Vekt\n",
            "\n",
            "kategori: Kastrat, aar: 2023\n",
            "År, Ukenr, Antall Antall slakt, Antall Klasse, Antall Fettgruppe Mid., Antall Vekt\n",
            "\n",
            "kategori: Kvige, aar: 2024\n",
            "År, Ukenr, Antall Antall slakt, Antall Klasse, Antall Fettgruppe Mid., Antall Vekt\n",
            "\n",
            "kategori: Kvige, aar: 2023\n",
            "År, Ukenr, Antall Antall slakt, Antall Klasse, Antall Fettgruppe Mid., Antall Vekt\n",
            "\n",
            "kategori: Ung ku, aar: 2024\n",
            "År, Ukenr, Antall Antall slakt, Antall Klasse, Antall Vekt, Antall Fettgruppe Mid.\n",
            "\n",
            "kategori: Ung ku, aar: 2023\n",
            "År, Ukenr, Antall Antall slakt, Antall Klasse, Antall Vekt, Antall Fettgruppe Mid.\n",
            "\n",
            "kategori: Ku, aar: 2024\n",
            "År, Ukenr, Antall Antall slakt, Antall Klasse, Antall Fettgruppe Mid., Antall Vekt\n",
            "\n",
            "kategori: Ku, aar: 2023\n",
            "År, Ukenr, Antall Antall slakt, Antall Klasse, Antall Fettgruppe Mid., Antall Vekt\n",
            "\n",
            "kategori: All ku, aar: 2024\n",
            "År, Ukenr, Antall Antall slakt, Antall Vekt, Antall Klasse, Antall Fettgruppe Mid.\n"
          ]
        }
      ]
    },
    {
      "cell_type": "markdown",
      "source": [
        "# Transform data"
      ],
      "metadata": {
        "id": "4MbTVZe3bmF3"
      }
    },
    {
      "cell_type": "markdown",
      "source": [
        "Remove empty rows"
      ],
      "metadata": {
        "id": "CCAP10FVRcuW"
      }
    },
    {
      "cell_type": "code",
      "source": [
        "for kategori, kategori_df_per_year in kategori_dataframes.items():\n",
        "    for aar, kategori_df in kategori_df_per_year.items():\n",
        "\n",
        "        print(f' kategori: {kategori},  aar: {aar}')\n",
        "        print(f'shape before removing empty rows: {kategori_df_per_year[aar].shape}')\n",
        "        kategori_df = kategori_df.replace('', np.nan)\n",
        "        kategori_df = kategori_df.dropna(thresh = 1)\n",
        "        kategori_df_per_year[aar] = kategori_df\n",
        "        print(f'shape after removing empty rows: {kategori_df_per_year[aar].shape}')"
      ],
      "metadata": {
        "colab": {
          "base_uri": "https://localhost:8080/"
        },
        "id": "myYoSgYlRcYd",
        "outputId": "f1fcdbe5-e056-4724-aa44-ab4eff2fa67a"
      },
      "execution_count": null,
      "outputs": [
        {
          "output_type": "stream",
          "name": "stdout",
          "text": [
            " kategori: Alt storfe - overordnet,  aar: 2024\n",
            "shape before removing empty rows: (106, 6)\n",
            "shape after removing empty rows: (104, 6)\n",
            " kategori: Alt storfe - overordnet,  aar: 2023\n",
            "shape before removing empty rows: (159, 6)\n",
            "shape after removing empty rows: (156, 6)\n",
            " kategori: Kalv,  aar: 2024\n",
            "shape before removing empty rows: (106, 6)\n",
            "shape after removing empty rows: (104, 6)\n",
            " kategori: Kalv,  aar: 2023\n",
            "shape before removing empty rows: (265, 6)\n",
            "shape after removing empty rows: (260, 6)\n",
            " kategori: Ung okse,  aar: 2024\n",
            "shape before removing empty rows: (106, 6)\n",
            "shape after removing empty rows: (104, 6)\n",
            " kategori: Ung okse,  aar: 2023\n",
            "shape before removing empty rows: (265, 6)\n",
            "shape after removing empty rows: (260, 6)\n",
            " kategori: Okse,  aar: 2024\n",
            "shape before removing empty rows: (105, 6)\n",
            "shape after removing empty rows: (104, 6)\n",
            " kategori: Okse,  aar: 2023\n",
            "shape before removing empty rows: (159, 6)\n",
            "shape after removing empty rows: (156, 6)\n",
            " kategori: Kastrat,  aar: 2024\n",
            "shape before removing empty rows: (106, 6)\n",
            "shape after removing empty rows: (104, 6)\n",
            " kategori: Kastrat,  aar: 2023\n",
            "shape before removing empty rows: (159, 6)\n",
            "shape after removing empty rows: (156, 6)\n",
            " kategori: Kvige,  aar: 2024\n",
            "shape before removing empty rows: (106, 6)\n",
            "shape after removing empty rows: (104, 6)\n",
            " kategori: Kvige,  aar: 2023\n",
            "shape before removing empty rows: (159, 6)\n",
            "shape after removing empty rows: (156, 6)\n",
            " kategori: Ung ku,  aar: 2024\n",
            "shape before removing empty rows: (106, 6)\n",
            "shape after removing empty rows: (104, 6)\n",
            " kategori: Ung ku,  aar: 2023\n",
            "shape before removing empty rows: (159, 6)\n",
            "shape after removing empty rows: (156, 6)\n",
            " kategori: Ku,  aar: 2024\n",
            "shape before removing empty rows: (106, 6)\n",
            "shape after removing empty rows: (104, 6)\n",
            " kategori: Ku,  aar: 2023\n",
            "shape before removing empty rows: (159, 6)\n",
            "shape after removing empty rows: (156, 6)\n",
            " kategori: All ku,  aar: 2024\n",
            "shape before removing empty rows: (106, 6)\n",
            "shape after removing empty rows: (104, 6)\n"
          ]
        }
      ]
    },
    {
      "cell_type": "markdown",
      "source": [
        "Rename columns"
      ],
      "metadata": {
        "id": "5XtyiaL84OOQ"
      }
    },
    {
      "cell_type": "code",
      "source": [
        "required_columns"
      ],
      "metadata": {
        "colab": {
          "base_uri": "https://localhost:8080/"
        },
        "id": "915x_aaGcjIm",
        "outputId": "ef760126-917f-4f67-8a06-ec038b2a2139"
      },
      "execution_count": null,
      "outputs": [
        {
          "output_type": "execute_result",
          "data": {
            "text/plain": [
              "{'År': 'aar',\n",
              " 'Uke': 'uke',\n",
              " 'Antall slakt': 'antall_slakt',\n",
              " 'Vekt': 'vekt_kg',\n",
              " 'Klasse': 'klasse',\n",
              " 'Fettgruppe Mid': 'fettgruppe'}"
            ]
          },
          "metadata": {},
          "execution_count": 15
        }
      ]
    },
    {
      "cell_type": "code",
      "source": [
        "for kategori, kategori_df_per_year in kategori_dataframes.items():\n",
        "    for aar, kategori_df in kategori_df_per_year.items():\n",
        "\n",
        "        columns = kategori_df.columns\n",
        "\n",
        "        renamed_columns = {}\n",
        "        for col in columns:\n",
        "            for column_indicator in required_columns:\n",
        "                if column_indicator in col:\n",
        "                    renamed_columns[col] = required_columns[column_indicator]\n",
        "\n",
        "        kategori_df = kategori_df.rename(columns = renamed_columns)\n",
        "        kategori_df['year of file'] = aar\n",
        "        kategori_df_per_year[aar] = kategori_df"
      ],
      "metadata": {
        "id": "oxz6LaLMdEkr"
      },
      "execution_count": null,
      "outputs": []
    },
    {
      "cell_type": "markdown",
      "source": [
        "Combine dataframes for different years"
      ],
      "metadata": {
        "id": "4kTeUgP46Hnt"
      }
    },
    {
      "cell_type": "code",
      "source": [
        "for kategori, kategori_df_per_year in kategori_dataframes.items():\n",
        "\n",
        "    data_per_year = list(kategori_df_per_year.values())\n",
        "    kategori_df = pd.concat(data_per_year, ignore_index = True, axis = 0)\n",
        "    kategori_dataframes[kategori] = kategori_df"
      ],
      "metadata": {
        "id": "2FqpP0Hc6Lud"
      },
      "execution_count": null,
      "outputs": []
    },
    {
      "cell_type": "markdown",
      "source": [
        "Add category and art columns"
      ],
      "metadata": {
        "id": "VWLThOrH5vUX"
      }
    },
    {
      "cell_type": "code",
      "source": [
        "for kategori, kategori_df_per_year in kategori_dataframes.items():\n",
        "    kategori_df_per_year['kategory'] = kategori\n",
        "    kategori_df_per_year['art'] = art"
      ],
      "metadata": {
        "id": "elgFFgPJ5uKy"
      },
      "execution_count": null,
      "outputs": []
    },
    {
      "cell_type": "markdown",
      "source": [
        "Combine all dataframes together"
      ],
      "metadata": {
        "id": "1MdFLRjiEQCF"
      }
    },
    {
      "cell_type": "code",
      "source": [
        "art_dataframes = list(kategori_dataframes.values())\n",
        "art_dataframe = pd.concat(art_dataframes, ignore_index = True, axis = 0)"
      ],
      "metadata": {
        "id": "Z32Fh10TEW0U"
      },
      "execution_count": null,
      "outputs": []
    },
    {
      "cell_type": "code",
      "source": [
        "art_dataframe.shape"
      ],
      "metadata": {
        "colab": {
          "base_uri": "https://localhost:8080/"
        },
        "id": "4ej5uI3GHiAf",
        "outputId": "93aaf5bb-7d38-4973-aa6e-71d2a3bd579a"
      },
      "execution_count": null,
      "outputs": [
        {
          "output_type": "execute_result",
          "data": {
            "text/plain": [
              "(2392, 9)"
            ]
          },
          "metadata": {},
          "execution_count": 20
        }
      ]
    },
    {
      "cell_type": "code",
      "source": [
        "art_dataframe.head()"
      ],
      "metadata": {
        "colab": {
          "base_uri": "https://localhost:8080/",
          "height": 206
        },
        "id": "030BONgWHm8B",
        "outputId": "38d89fe8-e017-4454-b0d2-fd6ae707cdef"
      },
      "execution_count": null,
      "outputs": [
        {
          "output_type": "execute_result",
          "data": {
            "text/plain": [
              "      aar  uke  antall_slakt     vekt_kg    klasse  fettgruppe year of file  \\\n",
              "0  2024.0  1.0        6062.0  276.515853  4.980350    7.388651         2024   \n",
              "1  2024.0  2.0        7137.0  277.477974  4.983722    7.298445         2024   \n",
              "2  2024.0  3.0        6181.0  277.534768  4.988817    7.318557         2024   \n",
              "3  2024.0  4.0        6147.0  280.522434  5.105195    7.255409         2024   \n",
              "4  2024.0  5.0        5490.0  270.246284  4.978661    7.048998         2024   \n",
              "\n",
              "                  kategory     art  \n",
              "0  Alt storfe - overordnet  storfe  \n",
              "1  Alt storfe - overordnet  storfe  \n",
              "2  Alt storfe - overordnet  storfe  \n",
              "3  Alt storfe - overordnet  storfe  \n",
              "4  Alt storfe - overordnet  storfe  "
            ],
            "text/html": [
              "\n",
              "  <div id=\"df-963627a4-11f3-4fc2-a94d-732e89790a9c\" class=\"colab-df-container\">\n",
              "    <div>\n",
              "<style scoped>\n",
              "    .dataframe tbody tr th:only-of-type {\n",
              "        vertical-align: middle;\n",
              "    }\n",
              "\n",
              "    .dataframe tbody tr th {\n",
              "        vertical-align: top;\n",
              "    }\n",
              "\n",
              "    .dataframe thead th {\n",
              "        text-align: right;\n",
              "    }\n",
              "</style>\n",
              "<table border=\"1\" class=\"dataframe\">\n",
              "  <thead>\n",
              "    <tr style=\"text-align: right;\">\n",
              "      <th></th>\n",
              "      <th>aar</th>\n",
              "      <th>uke</th>\n",
              "      <th>antall_slakt</th>\n",
              "      <th>vekt_kg</th>\n",
              "      <th>klasse</th>\n",
              "      <th>fettgruppe</th>\n",
              "      <th>year of file</th>\n",
              "      <th>kategory</th>\n",
              "      <th>art</th>\n",
              "    </tr>\n",
              "  </thead>\n",
              "  <tbody>\n",
              "    <tr>\n",
              "      <th>0</th>\n",
              "      <td>2024.0</td>\n",
              "      <td>1.0</td>\n",
              "      <td>6062.0</td>\n",
              "      <td>276.515853</td>\n",
              "      <td>4.980350</td>\n",
              "      <td>7.388651</td>\n",
              "      <td>2024</td>\n",
              "      <td>Alt storfe - overordnet</td>\n",
              "      <td>storfe</td>\n",
              "    </tr>\n",
              "    <tr>\n",
              "      <th>1</th>\n",
              "      <td>2024.0</td>\n",
              "      <td>2.0</td>\n",
              "      <td>7137.0</td>\n",
              "      <td>277.477974</td>\n",
              "      <td>4.983722</td>\n",
              "      <td>7.298445</td>\n",
              "      <td>2024</td>\n",
              "      <td>Alt storfe - overordnet</td>\n",
              "      <td>storfe</td>\n",
              "    </tr>\n",
              "    <tr>\n",
              "      <th>2</th>\n",
              "      <td>2024.0</td>\n",
              "      <td>3.0</td>\n",
              "      <td>6181.0</td>\n",
              "      <td>277.534768</td>\n",
              "      <td>4.988817</td>\n",
              "      <td>7.318557</td>\n",
              "      <td>2024</td>\n",
              "      <td>Alt storfe - overordnet</td>\n",
              "      <td>storfe</td>\n",
              "    </tr>\n",
              "    <tr>\n",
              "      <th>3</th>\n",
              "      <td>2024.0</td>\n",
              "      <td>4.0</td>\n",
              "      <td>6147.0</td>\n",
              "      <td>280.522434</td>\n",
              "      <td>5.105195</td>\n",
              "      <td>7.255409</td>\n",
              "      <td>2024</td>\n",
              "      <td>Alt storfe - overordnet</td>\n",
              "      <td>storfe</td>\n",
              "    </tr>\n",
              "    <tr>\n",
              "      <th>4</th>\n",
              "      <td>2024.0</td>\n",
              "      <td>5.0</td>\n",
              "      <td>5490.0</td>\n",
              "      <td>270.246284</td>\n",
              "      <td>4.978661</td>\n",
              "      <td>7.048998</td>\n",
              "      <td>2024</td>\n",
              "      <td>Alt storfe - overordnet</td>\n",
              "      <td>storfe</td>\n",
              "    </tr>\n",
              "  </tbody>\n",
              "</table>\n",
              "</div>\n",
              "    <div class=\"colab-df-buttons\">\n",
              "\n",
              "  <div class=\"colab-df-container\">\n",
              "    <button class=\"colab-df-convert\" onclick=\"convertToInteractive('df-963627a4-11f3-4fc2-a94d-732e89790a9c')\"\n",
              "            title=\"Convert this dataframe to an interactive table.\"\n",
              "            style=\"display:none;\">\n",
              "\n",
              "  <svg xmlns=\"http://www.w3.org/2000/svg\" height=\"24px\" viewBox=\"0 -960 960 960\">\n",
              "    <path d=\"M120-120v-720h720v720H120Zm60-500h600v-160H180v160Zm220 220h160v-160H400v160Zm0 220h160v-160H400v160ZM180-400h160v-160H180v160Zm440 0h160v-160H620v160ZM180-180h160v-160H180v160Zm440 0h160v-160H620v160Z\"/>\n",
              "  </svg>\n",
              "    </button>\n",
              "\n",
              "  <style>\n",
              "    .colab-df-container {\n",
              "      display:flex;\n",
              "      gap: 12px;\n",
              "    }\n",
              "\n",
              "    .colab-df-convert {\n",
              "      background-color: #E8F0FE;\n",
              "      border: none;\n",
              "      border-radius: 50%;\n",
              "      cursor: pointer;\n",
              "      display: none;\n",
              "      fill: #1967D2;\n",
              "      height: 32px;\n",
              "      padding: 0 0 0 0;\n",
              "      width: 32px;\n",
              "    }\n",
              "\n",
              "    .colab-df-convert:hover {\n",
              "      background-color: #E2EBFA;\n",
              "      box-shadow: 0px 1px 2px rgba(60, 64, 67, 0.3), 0px 1px 3px 1px rgba(60, 64, 67, 0.15);\n",
              "      fill: #174EA6;\n",
              "    }\n",
              "\n",
              "    .colab-df-buttons div {\n",
              "      margin-bottom: 4px;\n",
              "    }\n",
              "\n",
              "    [theme=dark] .colab-df-convert {\n",
              "      background-color: #3B4455;\n",
              "      fill: #D2E3FC;\n",
              "    }\n",
              "\n",
              "    [theme=dark] .colab-df-convert:hover {\n",
              "      background-color: #434B5C;\n",
              "      box-shadow: 0px 1px 3px 1px rgba(0, 0, 0, 0.15);\n",
              "      filter: drop-shadow(0px 1px 2px rgba(0, 0, 0, 0.3));\n",
              "      fill: #FFFFFF;\n",
              "    }\n",
              "  </style>\n",
              "\n",
              "    <script>\n",
              "      const buttonEl =\n",
              "        document.querySelector('#df-963627a4-11f3-4fc2-a94d-732e89790a9c button.colab-df-convert');\n",
              "      buttonEl.style.display =\n",
              "        google.colab.kernel.accessAllowed ? 'block' : 'none';\n",
              "\n",
              "      async function convertToInteractive(key) {\n",
              "        const element = document.querySelector('#df-963627a4-11f3-4fc2-a94d-732e89790a9c');\n",
              "        const dataTable =\n",
              "          await google.colab.kernel.invokeFunction('convertToInteractive',\n",
              "                                                    [key], {});\n",
              "        if (!dataTable) return;\n",
              "\n",
              "        const docLinkHtml = 'Like what you see? Visit the ' +\n",
              "          '<a target=\"_blank\" href=https://colab.research.google.com/notebooks/data_table.ipynb>data table notebook</a>'\n",
              "          + ' to learn more about interactive tables.';\n",
              "        element.innerHTML = '';\n",
              "        dataTable['output_type'] = 'display_data';\n",
              "        await google.colab.output.renderOutput(dataTable, element);\n",
              "        const docLink = document.createElement('div');\n",
              "        docLink.innerHTML = docLinkHtml;\n",
              "        element.appendChild(docLink);\n",
              "      }\n",
              "    </script>\n",
              "  </div>\n",
              "\n",
              "\n",
              "<div id=\"df-aec960fb-1da9-451f-b95e-9c0663dfbe4a\">\n",
              "  <button class=\"colab-df-quickchart\" onclick=\"quickchart('df-aec960fb-1da9-451f-b95e-9c0663dfbe4a')\"\n",
              "            title=\"Suggest charts\"\n",
              "            style=\"display:none;\">\n",
              "\n",
              "<svg xmlns=\"http://www.w3.org/2000/svg\" height=\"24px\"viewBox=\"0 0 24 24\"\n",
              "     width=\"24px\">\n",
              "    <g>\n",
              "        <path d=\"M19 3H5c-1.1 0-2 .9-2 2v14c0 1.1.9 2 2 2h14c1.1 0 2-.9 2-2V5c0-1.1-.9-2-2-2zM9 17H7v-7h2v7zm4 0h-2V7h2v10zm4 0h-2v-4h2v4z\"/>\n",
              "    </g>\n",
              "</svg>\n",
              "  </button>\n",
              "\n",
              "<style>\n",
              "  .colab-df-quickchart {\n",
              "      --bg-color: #E8F0FE;\n",
              "      --fill-color: #1967D2;\n",
              "      --hover-bg-color: #E2EBFA;\n",
              "      --hover-fill-color: #174EA6;\n",
              "      --disabled-fill-color: #AAA;\n",
              "      --disabled-bg-color: #DDD;\n",
              "  }\n",
              "\n",
              "  [theme=dark] .colab-df-quickchart {\n",
              "      --bg-color: #3B4455;\n",
              "      --fill-color: #D2E3FC;\n",
              "      --hover-bg-color: #434B5C;\n",
              "      --hover-fill-color: #FFFFFF;\n",
              "      --disabled-bg-color: #3B4455;\n",
              "      --disabled-fill-color: #666;\n",
              "  }\n",
              "\n",
              "  .colab-df-quickchart {\n",
              "    background-color: var(--bg-color);\n",
              "    border: none;\n",
              "    border-radius: 50%;\n",
              "    cursor: pointer;\n",
              "    display: none;\n",
              "    fill: var(--fill-color);\n",
              "    height: 32px;\n",
              "    padding: 0;\n",
              "    width: 32px;\n",
              "  }\n",
              "\n",
              "  .colab-df-quickchart:hover {\n",
              "    background-color: var(--hover-bg-color);\n",
              "    box-shadow: 0 1px 2px rgba(60, 64, 67, 0.3), 0 1px 3px 1px rgba(60, 64, 67, 0.15);\n",
              "    fill: var(--button-hover-fill-color);\n",
              "  }\n",
              "\n",
              "  .colab-df-quickchart-complete:disabled,\n",
              "  .colab-df-quickchart-complete:disabled:hover {\n",
              "    background-color: var(--disabled-bg-color);\n",
              "    fill: var(--disabled-fill-color);\n",
              "    box-shadow: none;\n",
              "  }\n",
              "\n",
              "  .colab-df-spinner {\n",
              "    border: 2px solid var(--fill-color);\n",
              "    border-color: transparent;\n",
              "    border-bottom-color: var(--fill-color);\n",
              "    animation:\n",
              "      spin 1s steps(1) infinite;\n",
              "  }\n",
              "\n",
              "  @keyframes spin {\n",
              "    0% {\n",
              "      border-color: transparent;\n",
              "      border-bottom-color: var(--fill-color);\n",
              "      border-left-color: var(--fill-color);\n",
              "    }\n",
              "    20% {\n",
              "      border-color: transparent;\n",
              "      border-left-color: var(--fill-color);\n",
              "      border-top-color: var(--fill-color);\n",
              "    }\n",
              "    30% {\n",
              "      border-color: transparent;\n",
              "      border-left-color: var(--fill-color);\n",
              "      border-top-color: var(--fill-color);\n",
              "      border-right-color: var(--fill-color);\n",
              "    }\n",
              "    40% {\n",
              "      border-color: transparent;\n",
              "      border-right-color: var(--fill-color);\n",
              "      border-top-color: var(--fill-color);\n",
              "    }\n",
              "    60% {\n",
              "      border-color: transparent;\n",
              "      border-right-color: var(--fill-color);\n",
              "    }\n",
              "    80% {\n",
              "      border-color: transparent;\n",
              "      border-right-color: var(--fill-color);\n",
              "      border-bottom-color: var(--fill-color);\n",
              "    }\n",
              "    90% {\n",
              "      border-color: transparent;\n",
              "      border-bottom-color: var(--fill-color);\n",
              "    }\n",
              "  }\n",
              "</style>\n",
              "\n",
              "  <script>\n",
              "    async function quickchart(key) {\n",
              "      const quickchartButtonEl =\n",
              "        document.querySelector('#' + key + ' button');\n",
              "      quickchartButtonEl.disabled = true;  // To prevent multiple clicks.\n",
              "      quickchartButtonEl.classList.add('colab-df-spinner');\n",
              "      try {\n",
              "        const charts = await google.colab.kernel.invokeFunction(\n",
              "            'suggestCharts', [key], {});\n",
              "      } catch (error) {\n",
              "        console.error('Error during call to suggestCharts:', error);\n",
              "      }\n",
              "      quickchartButtonEl.classList.remove('colab-df-spinner');\n",
              "      quickchartButtonEl.classList.add('colab-df-quickchart-complete');\n",
              "    }\n",
              "    (() => {\n",
              "      let quickchartButtonEl =\n",
              "        document.querySelector('#df-aec960fb-1da9-451f-b95e-9c0663dfbe4a button');\n",
              "      quickchartButtonEl.style.display =\n",
              "        google.colab.kernel.accessAllowed ? 'block' : 'none';\n",
              "    })();\n",
              "  </script>\n",
              "</div>\n",
              "\n",
              "    </div>\n",
              "  </div>\n"
            ],
            "application/vnd.google.colaboratory.intrinsic+json": {
              "type": "dataframe",
              "variable_name": "art_dataframe",
              "summary": "{\n  \"name\": \"art_dataframe\",\n  \"rows\": 2392,\n  \"fields\": [\n    {\n      \"column\": \"aar\",\n      \"properties\": {\n        \"dtype\": \"number\",\n        \"std\": 1.3249376535485924,\n        \"min\": 2019.0,\n        \"max\": 2024.0,\n        \"num_unique_values\": 6,\n        \"samples\": [\n          2024.0,\n          2023.0,\n          2019.0\n        ],\n        \"semantic_type\": \"\",\n        \"description\": \"\"\n      }\n    },\n    {\n      \"column\": \"uke\",\n      \"properties\": {\n        \"dtype\": \"number\",\n        \"std\": 15.011469196737002,\n        \"min\": 1.0,\n        \"max\": 52.0,\n        \"num_unique_values\": 52,\n        \"samples\": [\n          20.0,\n          42.0,\n          48.0\n        ],\n        \"semantic_type\": \"\",\n        \"description\": \"\"\n      }\n    },\n    {\n      \"column\": \"antall_slakt\",\n      \"properties\": {\n        \"dtype\": \"number\",\n        \"std\": 1895.6595753977292,\n        \"min\": 1.0,\n        \"max\": 8513.96,\n        \"num_unique_values\": 1382,\n        \"samples\": [\n          242.0,\n          92.0,\n          359.0\n        ],\n        \"semantic_type\": \"\",\n        \"description\": \"\"\n      }\n    },\n    {\n      \"column\": \"vekt_kg\",\n      \"properties\": {\n        \"dtype\": \"number\",\n        \"std\": 70.78233470606787,\n        \"min\": 80.6919540229885,\n        \"max\": 419.62436974789927,\n        \"num_unique_values\": 2151,\n        \"samples\": [\n          250.01190476190473,\n          304.3001234567899,\n          367.3173515981735\n        ],\n        \"semantic_type\": \"\",\n        \"description\": \"\"\n      }\n    },\n    {\n      \"column\": \"klasse\",\n      \"properties\": {\n        \"dtype\": \"number\",\n        \"std\": 0.9064611870591366,\n        \"min\": 3.06060606060606,\n        \"max\": 9.0,\n        \"num_unique_values\": 1928,\n        \"samples\": [\n          4.223529411764705,\n          3.643356643356644,\n          3.7177531206657406\n        ],\n        \"semantic_type\": \"\",\n        \"description\": \"\"\n      }\n    },\n    {\n      \"column\": \"fettgruppe\",\n      \"properties\": {\n        \"dtype\": \"number\",\n        \"std\": 1.065554151891032,\n        \"min\": 3.4532019704433496,\n        \"max\": 9.916666666666664,\n        \"num_unique_values\": 1954,\n        \"samples\": [\n          7.348993288590607,\n          7.829311101360243,\n          6.529411764705881\n        ],\n        \"semantic_type\": \"\",\n        \"description\": \"\"\n      }\n    },\n    {\n      \"column\": \"year of file\",\n      \"properties\": {\n        \"dtype\": \"object\",\n        \"num_unique_values\": 2,\n        \"samples\": [\n          \"2023\",\n          \"2024\"\n        ],\n        \"semantic_type\": \"\",\n        \"description\": \"\"\n      }\n    },\n    {\n      \"column\": \"kategory\",\n      \"properties\": {\n        \"dtype\": \"category\",\n        \"num_unique_values\": 9,\n        \"samples\": [\n          \"Ku\",\n          \"Kalv\"\n        ],\n        \"semantic_type\": \"\",\n        \"description\": \"\"\n      }\n    },\n    {\n      \"column\": \"art\",\n      \"properties\": {\n        \"dtype\": \"category\",\n        \"num_unique_values\": 1,\n        \"samples\": [\n          \"storfe\"\n        ],\n        \"semantic_type\": \"\",\n        \"description\": \"\"\n      }\n    }\n  ]\n}"
            }
          },
          "metadata": {},
          "execution_count": 21
        }
      ]
    },
    {
      "cell_type": "code",
      "source": [
        "art_dataframe.shape"
      ],
      "metadata": {
        "colab": {
          "base_uri": "https://localhost:8080/"
        },
        "id": "K1_8AsxdUVuw",
        "outputId": "cc018574-4992-466a-bcc7-087112568f51"
      },
      "execution_count": null,
      "outputs": [
        {
          "output_type": "execute_result",
          "data": {
            "text/plain": [
              "(2392, 9)"
            ]
          },
          "metadata": {},
          "execution_count": 22
        }
      ]
    },
    {
      "cell_type": "markdown",
      "source": [
        "# Noteringspris fjørfe Task\n",
        "\n",
        "\n",
        "Web scrape Notert pris from Noteringspris fjørfe"
      ],
      "metadata": {
        "id": "g-3Rf4s3RXbE"
      }
    },
    {
      "cell_type": "code",
      "source": [
        "page = requests.get(NOTERINGSPRIS_FJØRFE_URL)\n",
        "page.encoding = page.apparent_encoding\n",
        "home_webpage = BeautifulSoup(page.text, 'html')"
      ],
      "metadata": {
        "id": "xBGtE-iYRdaG"
      },
      "execution_count": null,
      "outputs": []
    },
    {
      "cell_type": "code",
      "source": [
        "for a in home_webpage.find_all('a', href = True):\n",
        "    if NOTERINGSPRIS_FJØRFE_FILE_LINK_NAME == a.get_text():\n",
        "\n",
        "        notert_pris_file_url = a['href']\n",
        "\n",
        "        notert_pris_file_html = requests.get(notert_pris_file_url).text\n",
        "        notert_pris_file_soup = BeautifulSoup(notert_pris_file_html, 'lxml')\n",
        "\n",
        "        tables = notert_pris_file_soup.find_all('table')\n",
        "        table = tables[0]\n",
        "\n",
        "        with open('tallgrunnlag.csv', 'w', encoding = 'utf8') as f:\n",
        "            wr = csv.writer(f, quoting=csv.QUOTE_NONNUMERIC, lineterminator = '\\n')\n",
        "            wr.writerows([[td.text for td in row.find_all(\"td\")] for row in table.find_all(\"tr\")])\n",
        "\n",
        "            notert_pris_df = pd.read_csv('tallgrunnlag.csv')"
      ],
      "metadata": {
        "id": "ZW9hGK21WqT3"
      },
      "execution_count": null,
      "outputs": []
    },
    {
      "cell_type": "code",
      "source": [
        "notert_pris_df.head()"
      ],
      "metadata": {
        "colab": {
          "base_uri": "https://localhost:8080/",
          "height": 377
        },
        "id": "DIs2VqHyuvCp",
        "outputId": "c2528370-d87e-45d7-a000-837cd4865789"
      },
      "execution_count": null,
      "outputs": [
        {
          "output_type": "execute_result",
          "data": {
            "text/plain": [
              "         Dato Referansepris Øvrepris Notert pris Avvik fra ref.pris  \\\n",
              "0  17.02.2025         37,04    40,75       37,99               0,94   \n",
              "1  10.02.2025         37,04    40,75       37,59               0,55   \n",
              "2  03.02.2025         37,04    40,75       37,38               0,33   \n",
              "3  27.01.2025         37,04    40,75       37,52               0,47   \n",
              "4  20.01.2025         37,04    40,75       37,62               0,58   \n",
              "\n",
              "  Akk. gj.sn. engrospris Akk. avvik  Ukenr.   Avtaleår  Unnamed: 9  ...  \\\n",
              "0                  37,50       0,46       8  2024-2023         NaN  ...   \n",
              "1                  37,49       0,44       7  2024-2024         NaN  ...   \n",
              "2                  37,49       0,44       6  2024-2025         NaN  ...   \n",
              "3                  37,49       0,44       5  2024-2025         NaN  ...   \n",
              "4                  37,49       0,44       4  2024-2025         NaN  ...   \n",
              "\n",
              "   Unnamed: 22  Unnamed: 23  Unnamed: 24  Unnamed: 25  Unnamed: 26  \\\n",
              "0          NaN          NaN          NaN          NaN          NaN   \n",
              "1          NaN          NaN          NaN          NaN          NaN   \n",
              "2          NaN          NaN          NaN          NaN          NaN   \n",
              "3          NaN          NaN          NaN          NaN          NaN   \n",
              "4          NaN          NaN          NaN          NaN          NaN   \n",
              "\n",
              "   Unnamed: 27  Unnamed: 28  Unnamed: 29  Unnamed: 30  Unnamed: 31  \n",
              "0          NaN          NaN          NaN          NaN          NaN  \n",
              "1          NaN          NaN          NaN          NaN          NaN  \n",
              "2          NaN          NaN          NaN          NaN          NaN  \n",
              "3          NaN          NaN          NaN          NaN          NaN  \n",
              "4          NaN          NaN          NaN          NaN          NaN  \n",
              "\n",
              "[5 rows x 32 columns]"
            ],
            "text/html": [
              "\n",
              "  <div id=\"df-f18180d5-e740-485a-8564-037eb62477ce\" class=\"colab-df-container\">\n",
              "    <div>\n",
              "<style scoped>\n",
              "    .dataframe tbody tr th:only-of-type {\n",
              "        vertical-align: middle;\n",
              "    }\n",
              "\n",
              "    .dataframe tbody tr th {\n",
              "        vertical-align: top;\n",
              "    }\n",
              "\n",
              "    .dataframe thead th {\n",
              "        text-align: right;\n",
              "    }\n",
              "</style>\n",
              "<table border=\"1\" class=\"dataframe\">\n",
              "  <thead>\n",
              "    <tr style=\"text-align: right;\">\n",
              "      <th></th>\n",
              "      <th>Dato</th>\n",
              "      <th>Referansepris</th>\n",
              "      <th>Øvrepris</th>\n",
              "      <th>Notert pris</th>\n",
              "      <th>Avvik fra ref.pris</th>\n",
              "      <th>Akk. gj.sn. engrospris</th>\n",
              "      <th>Akk. avvik</th>\n",
              "      <th>Ukenr.</th>\n",
              "      <th>Avtaleår</th>\n",
              "      <th>Unnamed: 9</th>\n",
              "      <th>...</th>\n",
              "      <th>Unnamed: 22</th>\n",
              "      <th>Unnamed: 23</th>\n",
              "      <th>Unnamed: 24</th>\n",
              "      <th>Unnamed: 25</th>\n",
              "      <th>Unnamed: 26</th>\n",
              "      <th>Unnamed: 27</th>\n",
              "      <th>Unnamed: 28</th>\n",
              "      <th>Unnamed: 29</th>\n",
              "      <th>Unnamed: 30</th>\n",
              "      <th>Unnamed: 31</th>\n",
              "    </tr>\n",
              "  </thead>\n",
              "  <tbody>\n",
              "    <tr>\n",
              "      <th>0</th>\n",
              "      <td>17.02.2025</td>\n",
              "      <td>37,04</td>\n",
              "      <td>40,75</td>\n",
              "      <td>37,99</td>\n",
              "      <td>0,94</td>\n",
              "      <td>37,50</td>\n",
              "      <td>0,46</td>\n",
              "      <td>8</td>\n",
              "      <td>2024-2023</td>\n",
              "      <td>NaN</td>\n",
              "      <td>...</td>\n",
              "      <td>NaN</td>\n",
              "      <td>NaN</td>\n",
              "      <td>NaN</td>\n",
              "      <td>NaN</td>\n",
              "      <td>NaN</td>\n",
              "      <td>NaN</td>\n",
              "      <td>NaN</td>\n",
              "      <td>NaN</td>\n",
              "      <td>NaN</td>\n",
              "      <td>NaN</td>\n",
              "    </tr>\n",
              "    <tr>\n",
              "      <th>1</th>\n",
              "      <td>10.02.2025</td>\n",
              "      <td>37,04</td>\n",
              "      <td>40,75</td>\n",
              "      <td>37,59</td>\n",
              "      <td>0,55</td>\n",
              "      <td>37,49</td>\n",
              "      <td>0,44</td>\n",
              "      <td>7</td>\n",
              "      <td>2024-2024</td>\n",
              "      <td>NaN</td>\n",
              "      <td>...</td>\n",
              "      <td>NaN</td>\n",
              "      <td>NaN</td>\n",
              "      <td>NaN</td>\n",
              "      <td>NaN</td>\n",
              "      <td>NaN</td>\n",
              "      <td>NaN</td>\n",
              "      <td>NaN</td>\n",
              "      <td>NaN</td>\n",
              "      <td>NaN</td>\n",
              "      <td>NaN</td>\n",
              "    </tr>\n",
              "    <tr>\n",
              "      <th>2</th>\n",
              "      <td>03.02.2025</td>\n",
              "      <td>37,04</td>\n",
              "      <td>40,75</td>\n",
              "      <td>37,38</td>\n",
              "      <td>0,33</td>\n",
              "      <td>37,49</td>\n",
              "      <td>0,44</td>\n",
              "      <td>6</td>\n",
              "      <td>2024-2025</td>\n",
              "      <td>NaN</td>\n",
              "      <td>...</td>\n",
              "      <td>NaN</td>\n",
              "      <td>NaN</td>\n",
              "      <td>NaN</td>\n",
              "      <td>NaN</td>\n",
              "      <td>NaN</td>\n",
              "      <td>NaN</td>\n",
              "      <td>NaN</td>\n",
              "      <td>NaN</td>\n",
              "      <td>NaN</td>\n",
              "      <td>NaN</td>\n",
              "    </tr>\n",
              "    <tr>\n",
              "      <th>3</th>\n",
              "      <td>27.01.2025</td>\n",
              "      <td>37,04</td>\n",
              "      <td>40,75</td>\n",
              "      <td>37,52</td>\n",
              "      <td>0,47</td>\n",
              "      <td>37,49</td>\n",
              "      <td>0,44</td>\n",
              "      <td>5</td>\n",
              "      <td>2024-2025</td>\n",
              "      <td>NaN</td>\n",
              "      <td>...</td>\n",
              "      <td>NaN</td>\n",
              "      <td>NaN</td>\n",
              "      <td>NaN</td>\n",
              "      <td>NaN</td>\n",
              "      <td>NaN</td>\n",
              "      <td>NaN</td>\n",
              "      <td>NaN</td>\n",
              "      <td>NaN</td>\n",
              "      <td>NaN</td>\n",
              "      <td>NaN</td>\n",
              "    </tr>\n",
              "    <tr>\n",
              "      <th>4</th>\n",
              "      <td>20.01.2025</td>\n",
              "      <td>37,04</td>\n",
              "      <td>40,75</td>\n",
              "      <td>37,62</td>\n",
              "      <td>0,58</td>\n",
              "      <td>37,49</td>\n",
              "      <td>0,44</td>\n",
              "      <td>4</td>\n",
              "      <td>2024-2025</td>\n",
              "      <td>NaN</td>\n",
              "      <td>...</td>\n",
              "      <td>NaN</td>\n",
              "      <td>NaN</td>\n",
              "      <td>NaN</td>\n",
              "      <td>NaN</td>\n",
              "      <td>NaN</td>\n",
              "      <td>NaN</td>\n",
              "      <td>NaN</td>\n",
              "      <td>NaN</td>\n",
              "      <td>NaN</td>\n",
              "      <td>NaN</td>\n",
              "    </tr>\n",
              "  </tbody>\n",
              "</table>\n",
              "<p>5 rows × 32 columns</p>\n",
              "</div>\n",
              "    <div class=\"colab-df-buttons\">\n",
              "\n",
              "  <div class=\"colab-df-container\">\n",
              "    <button class=\"colab-df-convert\" onclick=\"convertToInteractive('df-f18180d5-e740-485a-8564-037eb62477ce')\"\n",
              "            title=\"Convert this dataframe to an interactive table.\"\n",
              "            style=\"display:none;\">\n",
              "\n",
              "  <svg xmlns=\"http://www.w3.org/2000/svg\" height=\"24px\" viewBox=\"0 -960 960 960\">\n",
              "    <path d=\"M120-120v-720h720v720H120Zm60-500h600v-160H180v160Zm220 220h160v-160H400v160Zm0 220h160v-160H400v160ZM180-400h160v-160H180v160Zm440 0h160v-160H620v160ZM180-180h160v-160H180v160Zm440 0h160v-160H620v160Z\"/>\n",
              "  </svg>\n",
              "    </button>\n",
              "\n",
              "  <style>\n",
              "    .colab-df-container {\n",
              "      display:flex;\n",
              "      gap: 12px;\n",
              "    }\n",
              "\n",
              "    .colab-df-convert {\n",
              "      background-color: #E8F0FE;\n",
              "      border: none;\n",
              "      border-radius: 50%;\n",
              "      cursor: pointer;\n",
              "      display: none;\n",
              "      fill: #1967D2;\n",
              "      height: 32px;\n",
              "      padding: 0 0 0 0;\n",
              "      width: 32px;\n",
              "    }\n",
              "\n",
              "    .colab-df-convert:hover {\n",
              "      background-color: #E2EBFA;\n",
              "      box-shadow: 0px 1px 2px rgba(60, 64, 67, 0.3), 0px 1px 3px 1px rgba(60, 64, 67, 0.15);\n",
              "      fill: #174EA6;\n",
              "    }\n",
              "\n",
              "    .colab-df-buttons div {\n",
              "      margin-bottom: 4px;\n",
              "    }\n",
              "\n",
              "    [theme=dark] .colab-df-convert {\n",
              "      background-color: #3B4455;\n",
              "      fill: #D2E3FC;\n",
              "    }\n",
              "\n",
              "    [theme=dark] .colab-df-convert:hover {\n",
              "      background-color: #434B5C;\n",
              "      box-shadow: 0px 1px 3px 1px rgba(0, 0, 0, 0.15);\n",
              "      filter: drop-shadow(0px 1px 2px rgba(0, 0, 0, 0.3));\n",
              "      fill: #FFFFFF;\n",
              "    }\n",
              "  </style>\n",
              "\n",
              "    <script>\n",
              "      const buttonEl =\n",
              "        document.querySelector('#df-f18180d5-e740-485a-8564-037eb62477ce button.colab-df-convert');\n",
              "      buttonEl.style.display =\n",
              "        google.colab.kernel.accessAllowed ? 'block' : 'none';\n",
              "\n",
              "      async function convertToInteractive(key) {\n",
              "        const element = document.querySelector('#df-f18180d5-e740-485a-8564-037eb62477ce');\n",
              "        const dataTable =\n",
              "          await google.colab.kernel.invokeFunction('convertToInteractive',\n",
              "                                                    [key], {});\n",
              "        if (!dataTable) return;\n",
              "\n",
              "        const docLinkHtml = 'Like what you see? Visit the ' +\n",
              "          '<a target=\"_blank\" href=https://colab.research.google.com/notebooks/data_table.ipynb>data table notebook</a>'\n",
              "          + ' to learn more about interactive tables.';\n",
              "        element.innerHTML = '';\n",
              "        dataTable['output_type'] = 'display_data';\n",
              "        await google.colab.output.renderOutput(dataTable, element);\n",
              "        const docLink = document.createElement('div');\n",
              "        docLink.innerHTML = docLinkHtml;\n",
              "        element.appendChild(docLink);\n",
              "      }\n",
              "    </script>\n",
              "  </div>\n",
              "\n",
              "\n",
              "<div id=\"df-8dc85048-2b2d-4862-97d8-f3b8f90061ae\">\n",
              "  <button class=\"colab-df-quickchart\" onclick=\"quickchart('df-8dc85048-2b2d-4862-97d8-f3b8f90061ae')\"\n",
              "            title=\"Suggest charts\"\n",
              "            style=\"display:none;\">\n",
              "\n",
              "<svg xmlns=\"http://www.w3.org/2000/svg\" height=\"24px\"viewBox=\"0 0 24 24\"\n",
              "     width=\"24px\">\n",
              "    <g>\n",
              "        <path d=\"M19 3H5c-1.1 0-2 .9-2 2v14c0 1.1.9 2 2 2h14c1.1 0 2-.9 2-2V5c0-1.1-.9-2-2-2zM9 17H7v-7h2v7zm4 0h-2V7h2v10zm4 0h-2v-4h2v4z\"/>\n",
              "    </g>\n",
              "</svg>\n",
              "  </button>\n",
              "\n",
              "<style>\n",
              "  .colab-df-quickchart {\n",
              "      --bg-color: #E8F0FE;\n",
              "      --fill-color: #1967D2;\n",
              "      --hover-bg-color: #E2EBFA;\n",
              "      --hover-fill-color: #174EA6;\n",
              "      --disabled-fill-color: #AAA;\n",
              "      --disabled-bg-color: #DDD;\n",
              "  }\n",
              "\n",
              "  [theme=dark] .colab-df-quickchart {\n",
              "      --bg-color: #3B4455;\n",
              "      --fill-color: #D2E3FC;\n",
              "      --hover-bg-color: #434B5C;\n",
              "      --hover-fill-color: #FFFFFF;\n",
              "      --disabled-bg-color: #3B4455;\n",
              "      --disabled-fill-color: #666;\n",
              "  }\n",
              "\n",
              "  .colab-df-quickchart {\n",
              "    background-color: var(--bg-color);\n",
              "    border: none;\n",
              "    border-radius: 50%;\n",
              "    cursor: pointer;\n",
              "    display: none;\n",
              "    fill: var(--fill-color);\n",
              "    height: 32px;\n",
              "    padding: 0;\n",
              "    width: 32px;\n",
              "  }\n",
              "\n",
              "  .colab-df-quickchart:hover {\n",
              "    background-color: var(--hover-bg-color);\n",
              "    box-shadow: 0 1px 2px rgba(60, 64, 67, 0.3), 0 1px 3px 1px rgba(60, 64, 67, 0.15);\n",
              "    fill: var(--button-hover-fill-color);\n",
              "  }\n",
              "\n",
              "  .colab-df-quickchart-complete:disabled,\n",
              "  .colab-df-quickchart-complete:disabled:hover {\n",
              "    background-color: var(--disabled-bg-color);\n",
              "    fill: var(--disabled-fill-color);\n",
              "    box-shadow: none;\n",
              "  }\n",
              "\n",
              "  .colab-df-spinner {\n",
              "    border: 2px solid var(--fill-color);\n",
              "    border-color: transparent;\n",
              "    border-bottom-color: var(--fill-color);\n",
              "    animation:\n",
              "      spin 1s steps(1) infinite;\n",
              "  }\n",
              "\n",
              "  @keyframes spin {\n",
              "    0% {\n",
              "      border-color: transparent;\n",
              "      border-bottom-color: var(--fill-color);\n",
              "      border-left-color: var(--fill-color);\n",
              "    }\n",
              "    20% {\n",
              "      border-color: transparent;\n",
              "      border-left-color: var(--fill-color);\n",
              "      border-top-color: var(--fill-color);\n",
              "    }\n",
              "    30% {\n",
              "      border-color: transparent;\n",
              "      border-left-color: var(--fill-color);\n",
              "      border-top-color: var(--fill-color);\n",
              "      border-right-color: var(--fill-color);\n",
              "    }\n",
              "    40% {\n",
              "      border-color: transparent;\n",
              "      border-right-color: var(--fill-color);\n",
              "      border-top-color: var(--fill-color);\n",
              "    }\n",
              "    60% {\n",
              "      border-color: transparent;\n",
              "      border-right-color: var(--fill-color);\n",
              "    }\n",
              "    80% {\n",
              "      border-color: transparent;\n",
              "      border-right-color: var(--fill-color);\n",
              "      border-bottom-color: var(--fill-color);\n",
              "    }\n",
              "    90% {\n",
              "      border-color: transparent;\n",
              "      border-bottom-color: var(--fill-color);\n",
              "    }\n",
              "  }\n",
              "</style>\n",
              "\n",
              "  <script>\n",
              "    async function quickchart(key) {\n",
              "      const quickchartButtonEl =\n",
              "        document.querySelector('#' + key + ' button');\n",
              "      quickchartButtonEl.disabled = true;  // To prevent multiple clicks.\n",
              "      quickchartButtonEl.classList.add('colab-df-spinner');\n",
              "      try {\n",
              "        const charts = await google.colab.kernel.invokeFunction(\n",
              "            'suggestCharts', [key], {});\n",
              "      } catch (error) {\n",
              "        console.error('Error during call to suggestCharts:', error);\n",
              "      }\n",
              "      quickchartButtonEl.classList.remove('colab-df-spinner');\n",
              "      quickchartButtonEl.classList.add('colab-df-quickchart-complete');\n",
              "    }\n",
              "    (() => {\n",
              "      let quickchartButtonEl =\n",
              "        document.querySelector('#df-8dc85048-2b2d-4862-97d8-f3b8f90061ae button');\n",
              "      quickchartButtonEl.style.display =\n",
              "        google.colab.kernel.accessAllowed ? 'block' : 'none';\n",
              "    })();\n",
              "  </script>\n",
              "</div>\n",
              "\n",
              "    </div>\n",
              "  </div>\n"
            ],
            "application/vnd.google.colaboratory.intrinsic+json": {
              "type": "dataframe",
              "variable_name": "notert_pris_df"
            }
          },
          "metadata": {},
          "execution_count": 25
        }
      ]
    },
    {
      "cell_type": "markdown",
      "source": [
        "Drop unnamed columns"
      ],
      "metadata": {
        "id": "65TQi_ZIf_5i"
      }
    },
    {
      "cell_type": "code",
      "source": [
        "notert_pris_df = notert_pris_df[notert_pris_df.columns.drop(list(notert_pris_df.filter(regex = 'Unnamed:')))]"
      ],
      "metadata": {
        "id": "su07DolTgCE0"
      },
      "execution_count": null,
      "outputs": []
    },
    {
      "cell_type": "code",
      "source": [
        "notert_pris_df.head()"
      ],
      "metadata": {
        "colab": {
          "base_uri": "https://localhost:8080/",
          "height": 206
        },
        "id": "OiIJ6_Sngw6t",
        "outputId": "308f4685-2df8-4286-c0a4-7cdcfc1f9e3f"
      },
      "execution_count": null,
      "outputs": [
        {
          "output_type": "execute_result",
          "data": {
            "text/plain": [
              "         Dato Referansepris Øvrepris Notert pris Avvik fra ref.pris  \\\n",
              "0  17.02.2025         37,04    40,75       37,99               0,94   \n",
              "1  10.02.2025         37,04    40,75       37,59               0,55   \n",
              "2  03.02.2025         37,04    40,75       37,38               0,33   \n",
              "3  27.01.2025         37,04    40,75       37,52               0,47   \n",
              "4  20.01.2025         37,04    40,75       37,62               0,58   \n",
              "\n",
              "  Akk. gj.sn. engrospris Akk. avvik  Ukenr.   Avtaleår  \n",
              "0                  37,50       0,46       8  2024-2023  \n",
              "1                  37,49       0,44       7  2024-2024  \n",
              "2                  37,49       0,44       6  2024-2025  \n",
              "3                  37,49       0,44       5  2024-2025  \n",
              "4                  37,49       0,44       4  2024-2025  "
            ],
            "text/html": [
              "\n",
              "  <div id=\"df-bcb869dd-a6cc-4bad-9d08-adfa4088ce69\" class=\"colab-df-container\">\n",
              "    <div>\n",
              "<style scoped>\n",
              "    .dataframe tbody tr th:only-of-type {\n",
              "        vertical-align: middle;\n",
              "    }\n",
              "\n",
              "    .dataframe tbody tr th {\n",
              "        vertical-align: top;\n",
              "    }\n",
              "\n",
              "    .dataframe thead th {\n",
              "        text-align: right;\n",
              "    }\n",
              "</style>\n",
              "<table border=\"1\" class=\"dataframe\">\n",
              "  <thead>\n",
              "    <tr style=\"text-align: right;\">\n",
              "      <th></th>\n",
              "      <th>Dato</th>\n",
              "      <th>Referansepris</th>\n",
              "      <th>Øvrepris</th>\n",
              "      <th>Notert pris</th>\n",
              "      <th>Avvik fra ref.pris</th>\n",
              "      <th>Akk. gj.sn. engrospris</th>\n",
              "      <th>Akk. avvik</th>\n",
              "      <th>Ukenr.</th>\n",
              "      <th>Avtaleår</th>\n",
              "    </tr>\n",
              "  </thead>\n",
              "  <tbody>\n",
              "    <tr>\n",
              "      <th>0</th>\n",
              "      <td>17.02.2025</td>\n",
              "      <td>37,04</td>\n",
              "      <td>40,75</td>\n",
              "      <td>37,99</td>\n",
              "      <td>0,94</td>\n",
              "      <td>37,50</td>\n",
              "      <td>0,46</td>\n",
              "      <td>8</td>\n",
              "      <td>2024-2023</td>\n",
              "    </tr>\n",
              "    <tr>\n",
              "      <th>1</th>\n",
              "      <td>10.02.2025</td>\n",
              "      <td>37,04</td>\n",
              "      <td>40,75</td>\n",
              "      <td>37,59</td>\n",
              "      <td>0,55</td>\n",
              "      <td>37,49</td>\n",
              "      <td>0,44</td>\n",
              "      <td>7</td>\n",
              "      <td>2024-2024</td>\n",
              "    </tr>\n",
              "    <tr>\n",
              "      <th>2</th>\n",
              "      <td>03.02.2025</td>\n",
              "      <td>37,04</td>\n",
              "      <td>40,75</td>\n",
              "      <td>37,38</td>\n",
              "      <td>0,33</td>\n",
              "      <td>37,49</td>\n",
              "      <td>0,44</td>\n",
              "      <td>6</td>\n",
              "      <td>2024-2025</td>\n",
              "    </tr>\n",
              "    <tr>\n",
              "      <th>3</th>\n",
              "      <td>27.01.2025</td>\n",
              "      <td>37,04</td>\n",
              "      <td>40,75</td>\n",
              "      <td>37,52</td>\n",
              "      <td>0,47</td>\n",
              "      <td>37,49</td>\n",
              "      <td>0,44</td>\n",
              "      <td>5</td>\n",
              "      <td>2024-2025</td>\n",
              "    </tr>\n",
              "    <tr>\n",
              "      <th>4</th>\n",
              "      <td>20.01.2025</td>\n",
              "      <td>37,04</td>\n",
              "      <td>40,75</td>\n",
              "      <td>37,62</td>\n",
              "      <td>0,58</td>\n",
              "      <td>37,49</td>\n",
              "      <td>0,44</td>\n",
              "      <td>4</td>\n",
              "      <td>2024-2025</td>\n",
              "    </tr>\n",
              "  </tbody>\n",
              "</table>\n",
              "</div>\n",
              "    <div class=\"colab-df-buttons\">\n",
              "\n",
              "  <div class=\"colab-df-container\">\n",
              "    <button class=\"colab-df-convert\" onclick=\"convertToInteractive('df-bcb869dd-a6cc-4bad-9d08-adfa4088ce69')\"\n",
              "            title=\"Convert this dataframe to an interactive table.\"\n",
              "            style=\"display:none;\">\n",
              "\n",
              "  <svg xmlns=\"http://www.w3.org/2000/svg\" height=\"24px\" viewBox=\"0 -960 960 960\">\n",
              "    <path d=\"M120-120v-720h720v720H120Zm60-500h600v-160H180v160Zm220 220h160v-160H400v160Zm0 220h160v-160H400v160ZM180-400h160v-160H180v160Zm440 0h160v-160H620v160ZM180-180h160v-160H180v160Zm440 0h160v-160H620v160Z\"/>\n",
              "  </svg>\n",
              "    </button>\n",
              "\n",
              "  <style>\n",
              "    .colab-df-container {\n",
              "      display:flex;\n",
              "      gap: 12px;\n",
              "    }\n",
              "\n",
              "    .colab-df-convert {\n",
              "      background-color: #E8F0FE;\n",
              "      border: none;\n",
              "      border-radius: 50%;\n",
              "      cursor: pointer;\n",
              "      display: none;\n",
              "      fill: #1967D2;\n",
              "      height: 32px;\n",
              "      padding: 0 0 0 0;\n",
              "      width: 32px;\n",
              "    }\n",
              "\n",
              "    .colab-df-convert:hover {\n",
              "      background-color: #E2EBFA;\n",
              "      box-shadow: 0px 1px 2px rgba(60, 64, 67, 0.3), 0px 1px 3px 1px rgba(60, 64, 67, 0.15);\n",
              "      fill: #174EA6;\n",
              "    }\n",
              "\n",
              "    .colab-df-buttons div {\n",
              "      margin-bottom: 4px;\n",
              "    }\n",
              "\n",
              "    [theme=dark] .colab-df-convert {\n",
              "      background-color: #3B4455;\n",
              "      fill: #D2E3FC;\n",
              "    }\n",
              "\n",
              "    [theme=dark] .colab-df-convert:hover {\n",
              "      background-color: #434B5C;\n",
              "      box-shadow: 0px 1px 3px 1px rgba(0, 0, 0, 0.15);\n",
              "      filter: drop-shadow(0px 1px 2px rgba(0, 0, 0, 0.3));\n",
              "      fill: #FFFFFF;\n",
              "    }\n",
              "  </style>\n",
              "\n",
              "    <script>\n",
              "      const buttonEl =\n",
              "        document.querySelector('#df-bcb869dd-a6cc-4bad-9d08-adfa4088ce69 button.colab-df-convert');\n",
              "      buttonEl.style.display =\n",
              "        google.colab.kernel.accessAllowed ? 'block' : 'none';\n",
              "\n",
              "      async function convertToInteractive(key) {\n",
              "        const element = document.querySelector('#df-bcb869dd-a6cc-4bad-9d08-adfa4088ce69');\n",
              "        const dataTable =\n",
              "          await google.colab.kernel.invokeFunction('convertToInteractive',\n",
              "                                                    [key], {});\n",
              "        if (!dataTable) return;\n",
              "\n",
              "        const docLinkHtml = 'Like what you see? Visit the ' +\n",
              "          '<a target=\"_blank\" href=https://colab.research.google.com/notebooks/data_table.ipynb>data table notebook</a>'\n",
              "          + ' to learn more about interactive tables.';\n",
              "        element.innerHTML = '';\n",
              "        dataTable['output_type'] = 'display_data';\n",
              "        await google.colab.output.renderOutput(dataTable, element);\n",
              "        const docLink = document.createElement('div');\n",
              "        docLink.innerHTML = docLinkHtml;\n",
              "        element.appendChild(docLink);\n",
              "      }\n",
              "    </script>\n",
              "  </div>\n",
              "\n",
              "\n",
              "<div id=\"df-c430bdac-ba7b-47d5-ad6d-a19d330f243f\">\n",
              "  <button class=\"colab-df-quickchart\" onclick=\"quickchart('df-c430bdac-ba7b-47d5-ad6d-a19d330f243f')\"\n",
              "            title=\"Suggest charts\"\n",
              "            style=\"display:none;\">\n",
              "\n",
              "<svg xmlns=\"http://www.w3.org/2000/svg\" height=\"24px\"viewBox=\"0 0 24 24\"\n",
              "     width=\"24px\">\n",
              "    <g>\n",
              "        <path d=\"M19 3H5c-1.1 0-2 .9-2 2v14c0 1.1.9 2 2 2h14c1.1 0 2-.9 2-2V5c0-1.1-.9-2-2-2zM9 17H7v-7h2v7zm4 0h-2V7h2v10zm4 0h-2v-4h2v4z\"/>\n",
              "    </g>\n",
              "</svg>\n",
              "  </button>\n",
              "\n",
              "<style>\n",
              "  .colab-df-quickchart {\n",
              "      --bg-color: #E8F0FE;\n",
              "      --fill-color: #1967D2;\n",
              "      --hover-bg-color: #E2EBFA;\n",
              "      --hover-fill-color: #174EA6;\n",
              "      --disabled-fill-color: #AAA;\n",
              "      --disabled-bg-color: #DDD;\n",
              "  }\n",
              "\n",
              "  [theme=dark] .colab-df-quickchart {\n",
              "      --bg-color: #3B4455;\n",
              "      --fill-color: #D2E3FC;\n",
              "      --hover-bg-color: #434B5C;\n",
              "      --hover-fill-color: #FFFFFF;\n",
              "      --disabled-bg-color: #3B4455;\n",
              "      --disabled-fill-color: #666;\n",
              "  }\n",
              "\n",
              "  .colab-df-quickchart {\n",
              "    background-color: var(--bg-color);\n",
              "    border: none;\n",
              "    border-radius: 50%;\n",
              "    cursor: pointer;\n",
              "    display: none;\n",
              "    fill: var(--fill-color);\n",
              "    height: 32px;\n",
              "    padding: 0;\n",
              "    width: 32px;\n",
              "  }\n",
              "\n",
              "  .colab-df-quickchart:hover {\n",
              "    background-color: var(--hover-bg-color);\n",
              "    box-shadow: 0 1px 2px rgba(60, 64, 67, 0.3), 0 1px 3px 1px rgba(60, 64, 67, 0.15);\n",
              "    fill: var(--button-hover-fill-color);\n",
              "  }\n",
              "\n",
              "  .colab-df-quickchart-complete:disabled,\n",
              "  .colab-df-quickchart-complete:disabled:hover {\n",
              "    background-color: var(--disabled-bg-color);\n",
              "    fill: var(--disabled-fill-color);\n",
              "    box-shadow: none;\n",
              "  }\n",
              "\n",
              "  .colab-df-spinner {\n",
              "    border: 2px solid var(--fill-color);\n",
              "    border-color: transparent;\n",
              "    border-bottom-color: var(--fill-color);\n",
              "    animation:\n",
              "      spin 1s steps(1) infinite;\n",
              "  }\n",
              "\n",
              "  @keyframes spin {\n",
              "    0% {\n",
              "      border-color: transparent;\n",
              "      border-bottom-color: var(--fill-color);\n",
              "      border-left-color: var(--fill-color);\n",
              "    }\n",
              "    20% {\n",
              "      border-color: transparent;\n",
              "      border-left-color: var(--fill-color);\n",
              "      border-top-color: var(--fill-color);\n",
              "    }\n",
              "    30% {\n",
              "      border-color: transparent;\n",
              "      border-left-color: var(--fill-color);\n",
              "      border-top-color: var(--fill-color);\n",
              "      border-right-color: var(--fill-color);\n",
              "    }\n",
              "    40% {\n",
              "      border-color: transparent;\n",
              "      border-right-color: var(--fill-color);\n",
              "      border-top-color: var(--fill-color);\n",
              "    }\n",
              "    60% {\n",
              "      border-color: transparent;\n",
              "      border-right-color: var(--fill-color);\n",
              "    }\n",
              "    80% {\n",
              "      border-color: transparent;\n",
              "      border-right-color: var(--fill-color);\n",
              "      border-bottom-color: var(--fill-color);\n",
              "    }\n",
              "    90% {\n",
              "      border-color: transparent;\n",
              "      border-bottom-color: var(--fill-color);\n",
              "    }\n",
              "  }\n",
              "</style>\n",
              "\n",
              "  <script>\n",
              "    async function quickchart(key) {\n",
              "      const quickchartButtonEl =\n",
              "        document.querySelector('#' + key + ' button');\n",
              "      quickchartButtonEl.disabled = true;  // To prevent multiple clicks.\n",
              "      quickchartButtonEl.classList.add('colab-df-spinner');\n",
              "      try {\n",
              "        const charts = await google.colab.kernel.invokeFunction(\n",
              "            'suggestCharts', [key], {});\n",
              "      } catch (error) {\n",
              "        console.error('Error during call to suggestCharts:', error);\n",
              "      }\n",
              "      quickchartButtonEl.classList.remove('colab-df-spinner');\n",
              "      quickchartButtonEl.classList.add('colab-df-quickchart-complete');\n",
              "    }\n",
              "    (() => {\n",
              "      let quickchartButtonEl =\n",
              "        document.querySelector('#df-c430bdac-ba7b-47d5-ad6d-a19d330f243f button');\n",
              "      quickchartButtonEl.style.display =\n",
              "        google.colab.kernel.accessAllowed ? 'block' : 'none';\n",
              "    })();\n",
              "  </script>\n",
              "</div>\n",
              "\n",
              "    </div>\n",
              "  </div>\n"
            ],
            "application/vnd.google.colaboratory.intrinsic+json": {
              "type": "dataframe",
              "variable_name": "notert_pris_df",
              "summary": "{\n  \"name\": \"notert_pris_df\",\n  \"rows\": 56,\n  \"fields\": [\n    {\n      \"column\": \"Dato\",\n      \"properties\": {\n        \"dtype\": \"object\",\n        \"num_unique_values\": 56,\n        \"samples\": [\n          \"17.02.2025\",\n          \"13.01.2025\",\n          \"01.07.2024\"\n        ],\n        \"semantic_type\": \"\",\n        \"description\": \"\"\n      }\n    },\n    {\n      \"column\": \"Referansepris\",\n      \"properties\": {\n        \"dtype\": \"object\",\n        \"num_unique_values\": 2,\n        \"samples\": [\n          \"34,35\",\n          \"37,04\"\n        ],\n        \"semantic_type\": \"\",\n        \"description\": \"\"\n      }\n    },\n    {\n      \"column\": \"\\u00d8vrepris\",\n      \"properties\": {\n        \"dtype\": \"object\",\n        \"num_unique_values\": 2,\n        \"samples\": [\n          \"37,79\",\n          \"40,75\"\n        ],\n        \"semantic_type\": \"\",\n        \"description\": \"\"\n      }\n    },\n    {\n      \"column\": \"Notert pris\",\n      \"properties\": {\n        \"dtype\": \"object\",\n        \"num_unique_values\": 42,\n        \"samples\": [\n          \"37,48\",\n          \"37,44\"\n        ],\n        \"semantic_type\": \"\",\n        \"description\": \"\"\n      }\n    },\n    {\n      \"column\": \"Avvik fra ref.pris\",\n      \"properties\": {\n        \"dtype\": \"string\",\n        \"num_unique_values\": 45,\n        \"samples\": [\n          \"2,9\",\n          \"0,22\"\n        ],\n        \"semantic_type\": \"\",\n        \"description\": \"\"\n      }\n    },\n    {\n      \"column\": \"Akk. gj.sn. engrospris\",\n      \"properties\": {\n        \"dtype\": \"category\",\n        \"num_unique_values\": 22,\n        \"samples\": [\n          \"37,50\",\n          \"37,36\"\n        ],\n        \"semantic_type\": \"\",\n        \"description\": \"\"\n      }\n    },\n    {\n      \"column\": \"Akk. avvik\",\n      \"properties\": {\n        \"dtype\": \"category\",\n        \"num_unique_values\": 22,\n        \"samples\": [\n          \"0,46\",\n          \"0,31\"\n        ],\n        \"semantic_type\": \"\",\n        \"description\": \"\"\n      }\n    },\n    {\n      \"column\": \"Ukenr.\",\n      \"properties\": {\n        \"dtype\": \"number\",\n        \"std\": 15,\n        \"min\": 1,\n        \"max\": 52,\n        \"num_unique_values\": 52,\n        \"samples\": [\n          41,\n          19\n        ],\n        \"semantic_type\": \"\",\n        \"description\": \"\"\n      }\n    },\n    {\n      \"column\": \"Avtale\\u00e5r\",\n      \"properties\": {\n        \"dtype\": \"category\",\n        \"num_unique_values\": 4,\n        \"samples\": [\n          \"2024-2024\",\n          \"2023-2024\"\n        ],\n        \"semantic_type\": \"\",\n        \"description\": \"\"\n      }\n    }\n  ]\n}"
            }
          },
          "metadata": {},
          "execution_count": 27
        }
      ]
    },
    {
      "cell_type": "markdown",
      "source": [
        "# Save Data"
      ],
      "metadata": {
        "id": "yoaN12IoMKjS"
      }
    },
    {
      "cell_type": "markdown",
      "source": [
        "Select required data"
      ],
      "metadata": {
        "id": "AnkrFBdYjrpr"
      }
    },
    {
      "cell_type": "code",
      "source": [
        "KATEGORI"
      ],
      "metadata": {
        "colab": {
          "base_uri": "https://localhost:8080/"
        },
        "id": "0UOEAQWyjq4a",
        "outputId": "9ae1f12d-ec61-4ef2-eaa4-e2e3f7c3d453"
      },
      "execution_count": null,
      "outputs": [
        {
          "output_type": "execute_result",
          "data": {
            "text/plain": [
              "['Ung okse']"
            ]
          },
          "metadata": {},
          "execution_count": 28
        }
      ]
    },
    {
      "cell_type": "code",
      "source": [
        "AAR"
      ],
      "metadata": {
        "colab": {
          "base_uri": "https://localhost:8080/"
        },
        "id": "CRnsn68tj7_N",
        "outputId": "b93801eb-03d3-48d5-ae23-63689696aca5"
      },
      "execution_count": null,
      "outputs": [
        {
          "output_type": "execute_result",
          "data": {
            "text/plain": [
              "['2024']"
            ]
          },
          "metadata": {},
          "execution_count": 29
        }
      ]
    },
    {
      "cell_type": "code",
      "source": [
        "dataframe_to_save = art_dataframe[art_dataframe['kategory'].isin(KATEGORI)]\n",
        "dataframe_to_save = dataframe_to_save[dataframe_to_save['year of file'].isin(AAR)]\n",
        "dataframe_to_save.drop('year of file', axis = 1, inplace = True)\n",
        "dataframe_to_save.head()"
      ],
      "metadata": {
        "colab": {
          "base_uri": "https://localhost:8080/",
          "height": 206
        },
        "id": "UmH2shSCk191",
        "outputId": "31b81667-b499-4675-fcd4-a2a41a81e112"
      },
      "execution_count": null,
      "outputs": [
        {
          "output_type": "execute_result",
          "data": {
            "text/plain": [
              "        aar  uke  antall_slakt     vekt_kg    klasse  fettgruppe  kategory  \\\n",
              "624  2024.0  1.0        2201.0  321.396865  6.054140    7.239891  Ung okse   \n",
              "625  2024.0  2.0        3111.0  314.484121  5.911869    7.111540  Ung okse   \n",
              "626  2024.0  3.0        2805.0  313.961034  5.799714    7.239572  Ung okse   \n",
              "627  2024.0  4.0        2832.0  324.779096  6.098552    7.288136  Ung okse   \n",
              "628  2024.0  5.0        2417.0  312.418825  5.923873    7.071163  Ung okse   \n",
              "\n",
              "        art  \n",
              "624  storfe  \n",
              "625  storfe  \n",
              "626  storfe  \n",
              "627  storfe  \n",
              "628  storfe  "
            ],
            "text/html": [
              "\n",
              "  <div id=\"df-81f2cf68-ccf6-4891-8d33-5e7f05e83c1e\" class=\"colab-df-container\">\n",
              "    <div>\n",
              "<style scoped>\n",
              "    .dataframe tbody tr th:only-of-type {\n",
              "        vertical-align: middle;\n",
              "    }\n",
              "\n",
              "    .dataframe tbody tr th {\n",
              "        vertical-align: top;\n",
              "    }\n",
              "\n",
              "    .dataframe thead th {\n",
              "        text-align: right;\n",
              "    }\n",
              "</style>\n",
              "<table border=\"1\" class=\"dataframe\">\n",
              "  <thead>\n",
              "    <tr style=\"text-align: right;\">\n",
              "      <th></th>\n",
              "      <th>aar</th>\n",
              "      <th>uke</th>\n",
              "      <th>antall_slakt</th>\n",
              "      <th>vekt_kg</th>\n",
              "      <th>klasse</th>\n",
              "      <th>fettgruppe</th>\n",
              "      <th>kategory</th>\n",
              "      <th>art</th>\n",
              "    </tr>\n",
              "  </thead>\n",
              "  <tbody>\n",
              "    <tr>\n",
              "      <th>624</th>\n",
              "      <td>2024.0</td>\n",
              "      <td>1.0</td>\n",
              "      <td>2201.0</td>\n",
              "      <td>321.396865</td>\n",
              "      <td>6.054140</td>\n",
              "      <td>7.239891</td>\n",
              "      <td>Ung okse</td>\n",
              "      <td>storfe</td>\n",
              "    </tr>\n",
              "    <tr>\n",
              "      <th>625</th>\n",
              "      <td>2024.0</td>\n",
              "      <td>2.0</td>\n",
              "      <td>3111.0</td>\n",
              "      <td>314.484121</td>\n",
              "      <td>5.911869</td>\n",
              "      <td>7.111540</td>\n",
              "      <td>Ung okse</td>\n",
              "      <td>storfe</td>\n",
              "    </tr>\n",
              "    <tr>\n",
              "      <th>626</th>\n",
              "      <td>2024.0</td>\n",
              "      <td>3.0</td>\n",
              "      <td>2805.0</td>\n",
              "      <td>313.961034</td>\n",
              "      <td>5.799714</td>\n",
              "      <td>7.239572</td>\n",
              "      <td>Ung okse</td>\n",
              "      <td>storfe</td>\n",
              "    </tr>\n",
              "    <tr>\n",
              "      <th>627</th>\n",
              "      <td>2024.0</td>\n",
              "      <td>4.0</td>\n",
              "      <td>2832.0</td>\n",
              "      <td>324.779096</td>\n",
              "      <td>6.098552</td>\n",
              "      <td>7.288136</td>\n",
              "      <td>Ung okse</td>\n",
              "      <td>storfe</td>\n",
              "    </tr>\n",
              "    <tr>\n",
              "      <th>628</th>\n",
              "      <td>2024.0</td>\n",
              "      <td>5.0</td>\n",
              "      <td>2417.0</td>\n",
              "      <td>312.418825</td>\n",
              "      <td>5.923873</td>\n",
              "      <td>7.071163</td>\n",
              "      <td>Ung okse</td>\n",
              "      <td>storfe</td>\n",
              "    </tr>\n",
              "  </tbody>\n",
              "</table>\n",
              "</div>\n",
              "    <div class=\"colab-df-buttons\">\n",
              "\n",
              "  <div class=\"colab-df-container\">\n",
              "    <button class=\"colab-df-convert\" onclick=\"convertToInteractive('df-81f2cf68-ccf6-4891-8d33-5e7f05e83c1e')\"\n",
              "            title=\"Convert this dataframe to an interactive table.\"\n",
              "            style=\"display:none;\">\n",
              "\n",
              "  <svg xmlns=\"http://www.w3.org/2000/svg\" height=\"24px\" viewBox=\"0 -960 960 960\">\n",
              "    <path d=\"M120-120v-720h720v720H120Zm60-500h600v-160H180v160Zm220 220h160v-160H400v160Zm0 220h160v-160H400v160ZM180-400h160v-160H180v160Zm440 0h160v-160H620v160ZM180-180h160v-160H180v160Zm440 0h160v-160H620v160Z\"/>\n",
              "  </svg>\n",
              "    </button>\n",
              "\n",
              "  <style>\n",
              "    .colab-df-container {\n",
              "      display:flex;\n",
              "      gap: 12px;\n",
              "    }\n",
              "\n",
              "    .colab-df-convert {\n",
              "      background-color: #E8F0FE;\n",
              "      border: none;\n",
              "      border-radius: 50%;\n",
              "      cursor: pointer;\n",
              "      display: none;\n",
              "      fill: #1967D2;\n",
              "      height: 32px;\n",
              "      padding: 0 0 0 0;\n",
              "      width: 32px;\n",
              "    }\n",
              "\n",
              "    .colab-df-convert:hover {\n",
              "      background-color: #E2EBFA;\n",
              "      box-shadow: 0px 1px 2px rgba(60, 64, 67, 0.3), 0px 1px 3px 1px rgba(60, 64, 67, 0.15);\n",
              "      fill: #174EA6;\n",
              "    }\n",
              "\n",
              "    .colab-df-buttons div {\n",
              "      margin-bottom: 4px;\n",
              "    }\n",
              "\n",
              "    [theme=dark] .colab-df-convert {\n",
              "      background-color: #3B4455;\n",
              "      fill: #D2E3FC;\n",
              "    }\n",
              "\n",
              "    [theme=dark] .colab-df-convert:hover {\n",
              "      background-color: #434B5C;\n",
              "      box-shadow: 0px 1px 3px 1px rgba(0, 0, 0, 0.15);\n",
              "      filter: drop-shadow(0px 1px 2px rgba(0, 0, 0, 0.3));\n",
              "      fill: #FFFFFF;\n",
              "    }\n",
              "  </style>\n",
              "\n",
              "    <script>\n",
              "      const buttonEl =\n",
              "        document.querySelector('#df-81f2cf68-ccf6-4891-8d33-5e7f05e83c1e button.colab-df-convert');\n",
              "      buttonEl.style.display =\n",
              "        google.colab.kernel.accessAllowed ? 'block' : 'none';\n",
              "\n",
              "      async function convertToInteractive(key) {\n",
              "        const element = document.querySelector('#df-81f2cf68-ccf6-4891-8d33-5e7f05e83c1e');\n",
              "        const dataTable =\n",
              "          await google.colab.kernel.invokeFunction('convertToInteractive',\n",
              "                                                    [key], {});\n",
              "        if (!dataTable) return;\n",
              "\n",
              "        const docLinkHtml = 'Like what you see? Visit the ' +\n",
              "          '<a target=\"_blank\" href=https://colab.research.google.com/notebooks/data_table.ipynb>data table notebook</a>'\n",
              "          + ' to learn more about interactive tables.';\n",
              "        element.innerHTML = '';\n",
              "        dataTable['output_type'] = 'display_data';\n",
              "        await google.colab.output.renderOutput(dataTable, element);\n",
              "        const docLink = document.createElement('div');\n",
              "        docLink.innerHTML = docLinkHtml;\n",
              "        element.appendChild(docLink);\n",
              "      }\n",
              "    </script>\n",
              "  </div>\n",
              "\n",
              "\n",
              "<div id=\"df-b4ab601f-0bba-44eb-b669-f89383278e17\">\n",
              "  <button class=\"colab-df-quickchart\" onclick=\"quickchart('df-b4ab601f-0bba-44eb-b669-f89383278e17')\"\n",
              "            title=\"Suggest charts\"\n",
              "            style=\"display:none;\">\n",
              "\n",
              "<svg xmlns=\"http://www.w3.org/2000/svg\" height=\"24px\"viewBox=\"0 0 24 24\"\n",
              "     width=\"24px\">\n",
              "    <g>\n",
              "        <path d=\"M19 3H5c-1.1 0-2 .9-2 2v14c0 1.1.9 2 2 2h14c1.1 0 2-.9 2-2V5c0-1.1-.9-2-2-2zM9 17H7v-7h2v7zm4 0h-2V7h2v10zm4 0h-2v-4h2v4z\"/>\n",
              "    </g>\n",
              "</svg>\n",
              "  </button>\n",
              "\n",
              "<style>\n",
              "  .colab-df-quickchart {\n",
              "      --bg-color: #E8F0FE;\n",
              "      --fill-color: #1967D2;\n",
              "      --hover-bg-color: #E2EBFA;\n",
              "      --hover-fill-color: #174EA6;\n",
              "      --disabled-fill-color: #AAA;\n",
              "      --disabled-bg-color: #DDD;\n",
              "  }\n",
              "\n",
              "  [theme=dark] .colab-df-quickchart {\n",
              "      --bg-color: #3B4455;\n",
              "      --fill-color: #D2E3FC;\n",
              "      --hover-bg-color: #434B5C;\n",
              "      --hover-fill-color: #FFFFFF;\n",
              "      --disabled-bg-color: #3B4455;\n",
              "      --disabled-fill-color: #666;\n",
              "  }\n",
              "\n",
              "  .colab-df-quickchart {\n",
              "    background-color: var(--bg-color);\n",
              "    border: none;\n",
              "    border-radius: 50%;\n",
              "    cursor: pointer;\n",
              "    display: none;\n",
              "    fill: var(--fill-color);\n",
              "    height: 32px;\n",
              "    padding: 0;\n",
              "    width: 32px;\n",
              "  }\n",
              "\n",
              "  .colab-df-quickchart:hover {\n",
              "    background-color: var(--hover-bg-color);\n",
              "    box-shadow: 0 1px 2px rgba(60, 64, 67, 0.3), 0 1px 3px 1px rgba(60, 64, 67, 0.15);\n",
              "    fill: var(--button-hover-fill-color);\n",
              "  }\n",
              "\n",
              "  .colab-df-quickchart-complete:disabled,\n",
              "  .colab-df-quickchart-complete:disabled:hover {\n",
              "    background-color: var(--disabled-bg-color);\n",
              "    fill: var(--disabled-fill-color);\n",
              "    box-shadow: none;\n",
              "  }\n",
              "\n",
              "  .colab-df-spinner {\n",
              "    border: 2px solid var(--fill-color);\n",
              "    border-color: transparent;\n",
              "    border-bottom-color: var(--fill-color);\n",
              "    animation:\n",
              "      spin 1s steps(1) infinite;\n",
              "  }\n",
              "\n",
              "  @keyframes spin {\n",
              "    0% {\n",
              "      border-color: transparent;\n",
              "      border-bottom-color: var(--fill-color);\n",
              "      border-left-color: var(--fill-color);\n",
              "    }\n",
              "    20% {\n",
              "      border-color: transparent;\n",
              "      border-left-color: var(--fill-color);\n",
              "      border-top-color: var(--fill-color);\n",
              "    }\n",
              "    30% {\n",
              "      border-color: transparent;\n",
              "      border-left-color: var(--fill-color);\n",
              "      border-top-color: var(--fill-color);\n",
              "      border-right-color: var(--fill-color);\n",
              "    }\n",
              "    40% {\n",
              "      border-color: transparent;\n",
              "      border-right-color: var(--fill-color);\n",
              "      border-top-color: var(--fill-color);\n",
              "    }\n",
              "    60% {\n",
              "      border-color: transparent;\n",
              "      border-right-color: var(--fill-color);\n",
              "    }\n",
              "    80% {\n",
              "      border-color: transparent;\n",
              "      border-right-color: var(--fill-color);\n",
              "      border-bottom-color: var(--fill-color);\n",
              "    }\n",
              "    90% {\n",
              "      border-color: transparent;\n",
              "      border-bottom-color: var(--fill-color);\n",
              "    }\n",
              "  }\n",
              "</style>\n",
              "\n",
              "  <script>\n",
              "    async function quickchart(key) {\n",
              "      const quickchartButtonEl =\n",
              "        document.querySelector('#' + key + ' button');\n",
              "      quickchartButtonEl.disabled = true;  // To prevent multiple clicks.\n",
              "      quickchartButtonEl.classList.add('colab-df-spinner');\n",
              "      try {\n",
              "        const charts = await google.colab.kernel.invokeFunction(\n",
              "            'suggestCharts', [key], {});\n",
              "      } catch (error) {\n",
              "        console.error('Error during call to suggestCharts:', error);\n",
              "      }\n",
              "      quickchartButtonEl.classList.remove('colab-df-spinner');\n",
              "      quickchartButtonEl.classList.add('colab-df-quickchart-complete');\n",
              "    }\n",
              "    (() => {\n",
              "      let quickchartButtonEl =\n",
              "        document.querySelector('#df-b4ab601f-0bba-44eb-b669-f89383278e17 button');\n",
              "      quickchartButtonEl.style.display =\n",
              "        google.colab.kernel.accessAllowed ? 'block' : 'none';\n",
              "    })();\n",
              "  </script>\n",
              "</div>\n",
              "\n",
              "    </div>\n",
              "  </div>\n"
            ],
            "application/vnd.google.colaboratory.intrinsic+json": {
              "type": "dataframe",
              "variable_name": "dataframe_to_save",
              "summary": "{\n  \"name\": \"dataframe_to_save\",\n  \"rows\": 104,\n  \"fields\": [\n    {\n      \"column\": \"aar\",\n      \"properties\": {\n        \"dtype\": \"number\",\n        \"std\": 0.5024213216674024,\n        \"min\": 2023.0,\n        \"max\": 2024.0,\n        \"num_unique_values\": 2,\n        \"samples\": [\n          2023.0,\n          2024.0\n        ],\n        \"semantic_type\": \"\",\n        \"description\": \"\"\n      }\n    },\n    {\n      \"column\": \"uke\",\n      \"properties\": {\n        \"dtype\": \"number\",\n        \"std\": 15.08101101398323,\n        \"min\": 1.0,\n        \"max\": 52.0,\n        \"num_unique_values\": 52,\n        \"samples\": [\n          20.0,\n          42.0\n        ],\n        \"semantic_type\": \"\",\n        \"description\": \"\"\n      }\n    },\n    {\n      \"column\": \"antall_slakt\",\n      \"properties\": {\n        \"dtype\": \"number\",\n        \"std\": 754.3931278925471,\n        \"min\": 519.0,\n        \"max\": 4476.0,\n        \"num_unique_values\": 100,\n        \"samples\": [\n          4476.0,\n          2753.0\n        ],\n        \"semantic_type\": \"\",\n        \"description\": \"\"\n      }\n    },\n    {\n      \"column\": \"vekt_kg\",\n      \"properties\": {\n        \"dtype\": \"number\",\n        \"std\": 12.37522612678875,\n        \"min\": 280.4856545128513,\n        \"max\": 333.00805860805855,\n        \"num_unique_values\": 104,\n        \"samples\": [\n          316.2955718270569,\n          306.4466281310211\n        ],\n        \"semantic_type\": \"\",\n        \"description\": \"\"\n      }\n    },\n    {\n      \"column\": \"klasse\",\n      \"properties\": {\n        \"dtype\": \"number\",\n        \"std\": 0.3168634138417242,\n        \"min\": 5.514755684567007,\n        \"max\": 6.69287211740042,\n        \"num_unique_values\": 104,\n        \"samples\": [\n          6.32135380321005,\n          5.529069767441864\n        ],\n        \"semantic_type\": \"\",\n        \"description\": \"\"\n      }\n    },\n    {\n      \"column\": \"fettgruppe\",\n      \"properties\": {\n        \"dtype\": \"number\",\n        \"std\": 0.14282360842058184,\n        \"min\": 6.460224239188465,\n        \"max\": 7.288135593220339,\n        \"num_unique_values\": 104,\n        \"samples\": [\n          6.836122733612275,\n          6.930635838150289\n        ],\n        \"semantic_type\": \"\",\n        \"description\": \"\"\n      }\n    },\n    {\n      \"column\": \"kategory\",\n      \"properties\": {\n        \"dtype\": \"category\",\n        \"num_unique_values\": 1,\n        \"samples\": [\n          \"Ung okse\"\n        ],\n        \"semantic_type\": \"\",\n        \"description\": \"\"\n      }\n    },\n    {\n      \"column\": \"art\",\n      \"properties\": {\n        \"dtype\": \"category\",\n        \"num_unique_values\": 1,\n        \"samples\": [\n          \"storfe\"\n        ],\n        \"semantic_type\": \"\",\n        \"description\": \"\"\n      }\n    }\n  ]\n}"
            }
          },
          "metadata": {},
          "execution_count": 30
        }
      ]
    },
    {
      "cell_type": "code",
      "source": [
        "dataframe_to_save.to_excel('ung_okse_2024_dataframe.xlsx', index = False)"
      ],
      "metadata": {
        "id": "pmtFLFXNoGAC"
      },
      "execution_count": null,
      "outputs": []
    },
    {
      "cell_type": "code",
      "source": [
        "!cp ung_okse_2024_dataframe.xlsx 'drive/My Drive/'"
      ],
      "metadata": {
        "id": "tcgn1J91oKQm"
      },
      "execution_count": null,
      "outputs": []
    },
    {
      "cell_type": "code",
      "source": [
        "notert_pris_df.to_excel('notert_pris_dataframe.xlsx', index = False)"
      ],
      "metadata": {
        "id": "Cs-Z8Sgfd8S6"
      },
      "execution_count": null,
      "outputs": []
    },
    {
      "cell_type": "code",
      "source": [
        "!cp notert_pris_dataframe.xlsx 'drive/My Drive/'"
      ],
      "metadata": {
        "id": "V4OmpyEJeRei"
      },
      "execution_count": null,
      "outputs": []
    }
  ]
}